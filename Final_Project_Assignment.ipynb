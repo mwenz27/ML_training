{
 "cells": [
  {
   "cell_type": "markdown",
   "metadata": {},
   "source": [
    "# Final Project\n",
    "\n",
    "## Predict whether a mammogram mass is benign or malignant\n",
    "\n",
    "We'll be using the \"mammographic masses\" public dataset from the UCI repository (source: https://archive.ics.uci.edu/ml/datasets/Mammographic+Mass)\n",
    "\n",
    "This data contains 961 instances of masses detected in mammograms, and contains the following attributes:\n",
    "\n",
    "\n",
    "   1. BI-RADS assessment: 1 to 5 (ordinal)  \n",
    "   2. Age: patient's age in years (integer)\n",
    "   3. Shape: mass shape: round=1 oval=2 lobular=3 irregular=4 (nominal)\n",
    "   4. Margin: mass margin: circumscribed=1 microlobulated=2 obscured=3 ill-defined=4 spiculated=5 (nominal)\n",
    "   5. Density: mass density high=1 iso=2 low=3 fat-containing=4 (ordinal)\n",
    "   6. Severity: benign=0 or malignant=1 (binominal)\n",
    "   \n",
    "BI-RADS is an assesment of how confident the severity classification is; it is not a \"predictive\" attribute and so we will discard it. The age, shape, margin, and density attributes are the features that we will build our model with, and \"severity\" is the classification we will attempt to predict based on those attributes.\n",
    "\n",
    "Although \"shape\" and \"margin\" are nominal data types, which sklearn typically doesn't deal with well, they are close enough to ordinal that we shouldn't just discard them. The \"shape\" for example is ordered increasingly from round to irregular.\n",
    "\n",
    "A lot of unnecessary anguish and surgery arises from false positives arising from mammogram results. If we can build a better way to interpret them through supervised machine learning, it could improve a lot of lives.\n",
    "\n",
    "## Your assignment\n",
    "\n",
    "Apply several different supervised machine learning techniques to this data set, and see which one yields the highest accuracy as measured with K-Fold cross validation (K=10). Apply:\n",
    "\n",
    "* Decision tree\n",
    "* Random forest\n",
    "* KNN\n",
    "* Naive Bayes\n",
    "* SVM\n",
    "* Logistic Regression\n",
    "* And, as a bonus challenge, a neural network using Keras.\n",
    "\n",
    "The data needs to be cleaned; many rows contain missing data, and there may be erroneous data identifiable as outliers as well.\n",
    "\n",
    "Remember some techniques such as SVM also require the input data to be normalized first.\n",
    "\n",
    "Many techniques also have \"hyperparameters\" that need to be tuned. Once you identify a promising approach, see if you can make it even better by tuning its hyperparameters.\n",
    "\n",
    "I was able to achieve over 80% accuracy - can you beat that?\n",
    "\n",
    "Below I've set up an outline of a notebook for this project, with some guidance and hints. If you're up for a real challenge, try doing this project from scratch in a new, clean notebook!\n"
   ]
  },
  {
   "cell_type": "markdown",
   "metadata": {},
   "source": [
    "## Let's begin: prepare your data\n",
    "\n",
    "Start by importing the mammographic_masses.data.txt file into a Pandas dataframe (hint: use read_csv) and take a look at it."
   ]
  },
  {
   "cell_type": "code",
   "execution_count": 5,
   "metadata": {},
   "outputs": [],
   "source": [
    "%matplotlib inline\n",
    "import pandas as pd\n",
    "import numpy as np\n",
    "import matplotlib.pyplot as plt\n",
    "from sklearn.metrics import mean_squared_error, r2_score\n",
    "from sklearn import *"
   ]
  },
  {
   "cell_type": "code",
   "execution_count": 6,
   "metadata": {},
   "outputs": [
    {
     "name": "stdout",
     "output_type": "stream",
     "text": [
      "mammographic_masses.data.txt  mammographic_masses.names.txt\r\n"
     ]
    }
   ],
   "source": [
    "!ls *mammographic*"
   ]
  },
  {
   "cell_type": "markdown",
   "metadata": {},
   "source": [
    "Make sure you use the optional parmaters in read_csv to convert missing data (indicated by a ?) into NaN, and to add the appropriate column names (BI_RADS, age, shape, margin, density, and severity):"
   ]
  },
  {
   "cell_type": "code",
   "execution_count": 17,
   "metadata": {},
   "outputs": [],
   "source": [
    "input_file = \"mammographic_masses.data.txt\"\n",
    "masses_data = pd.read_csv(input_file)"
   ]
  },
  {
   "cell_type": "code",
   "execution_count": 11,
   "metadata": {},
   "outputs": [],
   "source": []
  },
  {
   "cell_type": "code",
   "execution_count": 19,
   "metadata": {
    "scrolled": true
   },
   "outputs": [
    {
     "data": {
      "text/html": [
       "<div>\n",
       "<style scoped>\n",
       "    .dataframe tbody tr th:only-of-type {\n",
       "        vertical-align: middle;\n",
       "    }\n",
       "\n",
       "    .dataframe tbody tr th {\n",
       "        vertical-align: top;\n",
       "    }\n",
       "\n",
       "    .dataframe thead th {\n",
       "        text-align: right;\n",
       "    }\n",
       "</style>\n",
       "<table border=\"1\" class=\"dataframe\">\n",
       "  <thead>\n",
       "    <tr style=\"text-align: right;\">\n",
       "      <th></th>\n",
       "      <th>5</th>\n",
       "      <th>67</th>\n",
       "      <th>3</th>\n",
       "      <th>5.1</th>\n",
       "      <th>3.1</th>\n",
       "      <th>1</th>\n",
       "    </tr>\n",
       "  </thead>\n",
       "  <tbody>\n",
       "    <tr>\n",
       "      <th>0</th>\n",
       "      <td>4</td>\n",
       "      <td>43</td>\n",
       "      <td>1</td>\n",
       "      <td>1</td>\n",
       "      <td>?</td>\n",
       "      <td>1</td>\n",
       "    </tr>\n",
       "    <tr>\n",
       "      <th>1</th>\n",
       "      <td>5</td>\n",
       "      <td>58</td>\n",
       "      <td>4</td>\n",
       "      <td>5</td>\n",
       "      <td>3</td>\n",
       "      <td>1</td>\n",
       "    </tr>\n",
       "    <tr>\n",
       "      <th>2</th>\n",
       "      <td>4</td>\n",
       "      <td>28</td>\n",
       "      <td>1</td>\n",
       "      <td>1</td>\n",
       "      <td>3</td>\n",
       "      <td>0</td>\n",
       "    </tr>\n",
       "    <tr>\n",
       "      <th>3</th>\n",
       "      <td>5</td>\n",
       "      <td>74</td>\n",
       "      <td>1</td>\n",
       "      <td>5</td>\n",
       "      <td>?</td>\n",
       "      <td>1</td>\n",
       "    </tr>\n",
       "    <tr>\n",
       "      <th>4</th>\n",
       "      <td>4</td>\n",
       "      <td>65</td>\n",
       "      <td>1</td>\n",
       "      <td>?</td>\n",
       "      <td>3</td>\n",
       "      <td>0</td>\n",
       "    </tr>\n",
       "  </tbody>\n",
       "</table>\n",
       "</div>"
      ],
      "text/plain": [
       "   5  67  3 5.1 3.1  1\n",
       "0  4  43  1   1   ?  1\n",
       "1  5  58  4   5   3  1\n",
       "2  4  28  1   1   3  0\n",
       "3  5  74  1   5   ?  1\n",
       "4  4  65  1   ?   3  0"
      ]
     },
     "execution_count": 19,
     "metadata": {},
     "output_type": "execute_result"
    }
   ],
   "source": [
    "masses_data.head()"
   ]
  },
  {
   "cell_type": "markdown",
   "metadata": {},
   "source": [
    "the dataset requires cleaning to remove ? to na and adding the head values"
   ]
  },
  {
   "cell_type": "markdown",
   "metadata": {},
   "source": [
    "    "
   ]
  },
  {
   "cell_type": "code",
   "execution_count": 20,
   "metadata": {},
   "outputs": [],
   "source": [
    "masses_data = pd.read_csv(input_file, na_values=['?'], names = ['BI-RADS',\n",
    "'Age',\n",
    "'Shape',\n",
    "'Margin',\n",
    "'Density', \n",
    "'Severity'])"
   ]
  },
  {
   "cell_type": "code",
   "execution_count": 21,
   "metadata": {},
   "outputs": [
    {
     "data": {
      "text/html": [
       "<div>\n",
       "<style scoped>\n",
       "    .dataframe tbody tr th:only-of-type {\n",
       "        vertical-align: middle;\n",
       "    }\n",
       "\n",
       "    .dataframe tbody tr th {\n",
       "        vertical-align: top;\n",
       "    }\n",
       "\n",
       "    .dataframe thead th {\n",
       "        text-align: right;\n",
       "    }\n",
       "</style>\n",
       "<table border=\"1\" class=\"dataframe\">\n",
       "  <thead>\n",
       "    <tr style=\"text-align: right;\">\n",
       "      <th></th>\n",
       "      <th>BI-RADS</th>\n",
       "      <th>Age</th>\n",
       "      <th>Shape</th>\n",
       "      <th>Margin</th>\n",
       "      <th>Density</th>\n",
       "      <th>Severity</th>\n",
       "    </tr>\n",
       "  </thead>\n",
       "  <tbody>\n",
       "    <tr>\n",
       "      <th>0</th>\n",
       "      <td>5.0</td>\n",
       "      <td>67.0</td>\n",
       "      <td>3.0</td>\n",
       "      <td>5.0</td>\n",
       "      <td>3.0</td>\n",
       "      <td>1</td>\n",
       "    </tr>\n",
       "    <tr>\n",
       "      <th>1</th>\n",
       "      <td>4.0</td>\n",
       "      <td>43.0</td>\n",
       "      <td>1.0</td>\n",
       "      <td>1.0</td>\n",
       "      <td>NaN</td>\n",
       "      <td>1</td>\n",
       "    </tr>\n",
       "    <tr>\n",
       "      <th>2</th>\n",
       "      <td>5.0</td>\n",
       "      <td>58.0</td>\n",
       "      <td>4.0</td>\n",
       "      <td>5.0</td>\n",
       "      <td>3.0</td>\n",
       "      <td>1</td>\n",
       "    </tr>\n",
       "    <tr>\n",
       "      <th>3</th>\n",
       "      <td>4.0</td>\n",
       "      <td>28.0</td>\n",
       "      <td>1.0</td>\n",
       "      <td>1.0</td>\n",
       "      <td>3.0</td>\n",
       "      <td>0</td>\n",
       "    </tr>\n",
       "    <tr>\n",
       "      <th>4</th>\n",
       "      <td>5.0</td>\n",
       "      <td>74.0</td>\n",
       "      <td>1.0</td>\n",
       "      <td>5.0</td>\n",
       "      <td>NaN</td>\n",
       "      <td>1</td>\n",
       "    </tr>\n",
       "  </tbody>\n",
       "</table>\n",
       "</div>"
      ],
      "text/plain": [
       "   BI-RADS   Age  Shape  Margin  Density  Severity\n",
       "0      5.0  67.0    3.0     5.0      3.0         1\n",
       "1      4.0  43.0    1.0     1.0      NaN         1\n",
       "2      5.0  58.0    4.0     5.0      3.0         1\n",
       "3      4.0  28.0    1.0     1.0      3.0         0\n",
       "4      5.0  74.0    1.0     5.0      NaN         1"
      ]
     },
     "execution_count": 21,
     "metadata": {},
     "output_type": "execute_result"
    }
   ],
   "source": [
    "masses_data.head()"
   ]
  },
  {
   "cell_type": "markdown",
   "metadata": {},
   "source": [
    "There are quite a few missing values in the data set. Before we just drop every row that's missing data, let's make sure we don't bias our data in doing so. Does there appear to be any sort of correlation to what sort of data has missing fields? If there were, we'd have to try and go back and fill that data in."
   ]
  },
  {
   "cell_type": "code",
   "execution_count": 22,
   "metadata": {},
   "outputs": [
    {
     "data": {
      "text/html": [
       "<div>\n",
       "<style scoped>\n",
       "    .dataframe tbody tr th:only-of-type {\n",
       "        vertical-align: middle;\n",
       "    }\n",
       "\n",
       "    .dataframe tbody tr th {\n",
       "        vertical-align: top;\n",
       "    }\n",
       "\n",
       "    .dataframe thead th {\n",
       "        text-align: right;\n",
       "    }\n",
       "</style>\n",
       "<table border=\"1\" class=\"dataframe\">\n",
       "  <thead>\n",
       "    <tr style=\"text-align: right;\">\n",
       "      <th></th>\n",
       "      <th>BI-RADS</th>\n",
       "      <th>Age</th>\n",
       "      <th>Shape</th>\n",
       "      <th>Margin</th>\n",
       "      <th>Density</th>\n",
       "      <th>Severity</th>\n",
       "    </tr>\n",
       "  </thead>\n",
       "  <tbody>\n",
       "    <tr>\n",
       "      <th>count</th>\n",
       "      <td>959.000000</td>\n",
       "      <td>956.000000</td>\n",
       "      <td>930.000000</td>\n",
       "      <td>913.000000</td>\n",
       "      <td>885.000000</td>\n",
       "      <td>961.000000</td>\n",
       "    </tr>\n",
       "    <tr>\n",
       "      <th>mean</th>\n",
       "      <td>4.348279</td>\n",
       "      <td>55.487448</td>\n",
       "      <td>2.721505</td>\n",
       "      <td>2.796276</td>\n",
       "      <td>2.910734</td>\n",
       "      <td>0.463059</td>\n",
       "    </tr>\n",
       "    <tr>\n",
       "      <th>std</th>\n",
       "      <td>1.783031</td>\n",
       "      <td>14.480131</td>\n",
       "      <td>1.242792</td>\n",
       "      <td>1.566546</td>\n",
       "      <td>0.380444</td>\n",
       "      <td>0.498893</td>\n",
       "    </tr>\n",
       "    <tr>\n",
       "      <th>min</th>\n",
       "      <td>0.000000</td>\n",
       "      <td>18.000000</td>\n",
       "      <td>1.000000</td>\n",
       "      <td>1.000000</td>\n",
       "      <td>1.000000</td>\n",
       "      <td>0.000000</td>\n",
       "    </tr>\n",
       "    <tr>\n",
       "      <th>25%</th>\n",
       "      <td>4.000000</td>\n",
       "      <td>45.000000</td>\n",
       "      <td>2.000000</td>\n",
       "      <td>1.000000</td>\n",
       "      <td>3.000000</td>\n",
       "      <td>0.000000</td>\n",
       "    </tr>\n",
       "    <tr>\n",
       "      <th>50%</th>\n",
       "      <td>4.000000</td>\n",
       "      <td>57.000000</td>\n",
       "      <td>3.000000</td>\n",
       "      <td>3.000000</td>\n",
       "      <td>3.000000</td>\n",
       "      <td>0.000000</td>\n",
       "    </tr>\n",
       "    <tr>\n",
       "      <th>75%</th>\n",
       "      <td>5.000000</td>\n",
       "      <td>66.000000</td>\n",
       "      <td>4.000000</td>\n",
       "      <td>4.000000</td>\n",
       "      <td>3.000000</td>\n",
       "      <td>1.000000</td>\n",
       "    </tr>\n",
       "    <tr>\n",
       "      <th>max</th>\n",
       "      <td>55.000000</td>\n",
       "      <td>96.000000</td>\n",
       "      <td>4.000000</td>\n",
       "      <td>5.000000</td>\n",
       "      <td>4.000000</td>\n",
       "      <td>1.000000</td>\n",
       "    </tr>\n",
       "  </tbody>\n",
       "</table>\n",
       "</div>"
      ],
      "text/plain": [
       "          BI-RADS         Age       Shape      Margin     Density    Severity\n",
       "count  959.000000  956.000000  930.000000  913.000000  885.000000  961.000000\n",
       "mean     4.348279   55.487448    2.721505    2.796276    2.910734    0.463059\n",
       "std      1.783031   14.480131    1.242792    1.566546    0.380444    0.498893\n",
       "min      0.000000   18.000000    1.000000    1.000000    1.000000    0.000000\n",
       "25%      4.000000   45.000000    2.000000    1.000000    3.000000    0.000000\n",
       "50%      4.000000   57.000000    3.000000    3.000000    3.000000    0.000000\n",
       "75%      5.000000   66.000000    4.000000    4.000000    3.000000    1.000000\n",
       "max     55.000000   96.000000    4.000000    5.000000    4.000000    1.000000"
      ]
     },
     "execution_count": 22,
     "metadata": {},
     "output_type": "execute_result"
    }
   ],
   "source": [
    "masses_data.describe()"
   ]
  },
  {
   "cell_type": "markdown",
   "metadata": {},
   "source": [
    "If the missing data seems randomly distributed, go ahead and drop rows with missing data. Hint: use dropna()."
   ]
  },
  {
   "cell_type": "code",
   "execution_count": 26,
   "metadata": {},
   "outputs": [
    {
     "data": {
      "text/html": [
       "<div>\n",
       "<style scoped>\n",
       "    .dataframe tbody tr th:only-of-type {\n",
       "        vertical-align: middle;\n",
       "    }\n",
       "\n",
       "    .dataframe tbody tr th {\n",
       "        vertical-align: top;\n",
       "    }\n",
       "\n",
       "    .dataframe thead th {\n",
       "        text-align: right;\n",
       "    }\n",
       "</style>\n",
       "<table border=\"1\" class=\"dataframe\">\n",
       "  <thead>\n",
       "    <tr style=\"text-align: right;\">\n",
       "      <th></th>\n",
       "      <th>BI-RADS</th>\n",
       "      <th>Age</th>\n",
       "      <th>Shape</th>\n",
       "      <th>Margin</th>\n",
       "      <th>Density</th>\n",
       "      <th>Severity</th>\n",
       "    </tr>\n",
       "  </thead>\n",
       "  <tbody>\n",
       "    <tr>\n",
       "      <th>1</th>\n",
       "      <td>4.0</td>\n",
       "      <td>43.0</td>\n",
       "      <td>1.0</td>\n",
       "      <td>1.0</td>\n",
       "      <td>NaN</td>\n",
       "      <td>1</td>\n",
       "    </tr>\n",
       "    <tr>\n",
       "      <th>4</th>\n",
       "      <td>5.0</td>\n",
       "      <td>74.0</td>\n",
       "      <td>1.0</td>\n",
       "      <td>5.0</td>\n",
       "      <td>NaN</td>\n",
       "      <td>1</td>\n",
       "    </tr>\n",
       "    <tr>\n",
       "      <th>5</th>\n",
       "      <td>4.0</td>\n",
       "      <td>65.0</td>\n",
       "      <td>1.0</td>\n",
       "      <td>NaN</td>\n",
       "      <td>3.0</td>\n",
       "      <td>0</td>\n",
       "    </tr>\n",
       "    <tr>\n",
       "      <th>6</th>\n",
       "      <td>4.0</td>\n",
       "      <td>70.0</td>\n",
       "      <td>NaN</td>\n",
       "      <td>NaN</td>\n",
       "      <td>3.0</td>\n",
       "      <td>0</td>\n",
       "    </tr>\n",
       "    <tr>\n",
       "      <th>7</th>\n",
       "      <td>5.0</td>\n",
       "      <td>42.0</td>\n",
       "      <td>1.0</td>\n",
       "      <td>NaN</td>\n",
       "      <td>3.0</td>\n",
       "      <td>0</td>\n",
       "    </tr>\n",
       "    <tr>\n",
       "      <th>9</th>\n",
       "      <td>5.0</td>\n",
       "      <td>60.0</td>\n",
       "      <td>NaN</td>\n",
       "      <td>5.0</td>\n",
       "      <td>1.0</td>\n",
       "      <td>1</td>\n",
       "    </tr>\n",
       "    <tr>\n",
       "      <th>12</th>\n",
       "      <td>4.0</td>\n",
       "      <td>64.0</td>\n",
       "      <td>1.0</td>\n",
       "      <td>NaN</td>\n",
       "      <td>3.0</td>\n",
       "      <td>0</td>\n",
       "    </tr>\n",
       "    <tr>\n",
       "      <th>19</th>\n",
       "      <td>4.0</td>\n",
       "      <td>40.0</td>\n",
       "      <td>1.0</td>\n",
       "      <td>NaN</td>\n",
       "      <td>NaN</td>\n",
       "      <td>0</td>\n",
       "    </tr>\n",
       "    <tr>\n",
       "      <th>20</th>\n",
       "      <td>NaN</td>\n",
       "      <td>66.0</td>\n",
       "      <td>NaN</td>\n",
       "      <td>NaN</td>\n",
       "      <td>1.0</td>\n",
       "      <td>1</td>\n",
       "    </tr>\n",
       "    <tr>\n",
       "      <th>22</th>\n",
       "      <td>4.0</td>\n",
       "      <td>43.0</td>\n",
       "      <td>1.0</td>\n",
       "      <td>NaN</td>\n",
       "      <td>NaN</td>\n",
       "      <td>0</td>\n",
       "    </tr>\n",
       "    <tr>\n",
       "      <th>26</th>\n",
       "      <td>2.0</td>\n",
       "      <td>66.0</td>\n",
       "      <td>1.0</td>\n",
       "      <td>1.0</td>\n",
       "      <td>NaN</td>\n",
       "      <td>0</td>\n",
       "    </tr>\n",
       "    <tr>\n",
       "      <th>27</th>\n",
       "      <td>5.0</td>\n",
       "      <td>63.0</td>\n",
       "      <td>3.0</td>\n",
       "      <td>NaN</td>\n",
       "      <td>3.0</td>\n",
       "      <td>0</td>\n",
       "    </tr>\n",
       "    <tr>\n",
       "      <th>35</th>\n",
       "      <td>4.0</td>\n",
       "      <td>77.0</td>\n",
       "      <td>3.0</td>\n",
       "      <td>NaN</td>\n",
       "      <td>NaN</td>\n",
       "      <td>0</td>\n",
       "    </tr>\n",
       "    <tr>\n",
       "      <th>38</th>\n",
       "      <td>4.0</td>\n",
       "      <td>48.0</td>\n",
       "      <td>4.0</td>\n",
       "      <td>5.0</td>\n",
       "      <td>NaN</td>\n",
       "      <td>1</td>\n",
       "    </tr>\n",
       "    <tr>\n",
       "      <th>40</th>\n",
       "      <td>4.0</td>\n",
       "      <td>59.0</td>\n",
       "      <td>2.0</td>\n",
       "      <td>1.0</td>\n",
       "      <td>NaN</td>\n",
       "      <td>0</td>\n",
       "    </tr>\n",
       "    <tr>\n",
       "      <th>43</th>\n",
       "      <td>4.0</td>\n",
       "      <td>61.0</td>\n",
       "      <td>2.0</td>\n",
       "      <td>1.0</td>\n",
       "      <td>NaN</td>\n",
       "      <td>0</td>\n",
       "    </tr>\n",
       "    <tr>\n",
       "      <th>45</th>\n",
       "      <td>5.0</td>\n",
       "      <td>44.0</td>\n",
       "      <td>2.0</td>\n",
       "      <td>4.0</td>\n",
       "      <td>NaN</td>\n",
       "      <td>1</td>\n",
       "    </tr>\n",
       "    <tr>\n",
       "      <th>47</th>\n",
       "      <td>4.0</td>\n",
       "      <td>23.0</td>\n",
       "      <td>1.0</td>\n",
       "      <td>1.0</td>\n",
       "      <td>NaN</td>\n",
       "      <td>0</td>\n",
       "    </tr>\n",
       "    <tr>\n",
       "      <th>48</th>\n",
       "      <td>2.0</td>\n",
       "      <td>42.0</td>\n",
       "      <td>NaN</td>\n",
       "      <td>NaN</td>\n",
       "      <td>4.0</td>\n",
       "      <td>0</td>\n",
       "    </tr>\n",
       "    <tr>\n",
       "      <th>52</th>\n",
       "      <td>4.0</td>\n",
       "      <td>23.0</td>\n",
       "      <td>1.0</td>\n",
       "      <td>1.0</td>\n",
       "      <td>NaN</td>\n",
       "      <td>0</td>\n",
       "    </tr>\n",
       "    <tr>\n",
       "      <th>53</th>\n",
       "      <td>4.0</td>\n",
       "      <td>63.0</td>\n",
       "      <td>2.0</td>\n",
       "      <td>1.0</td>\n",
       "      <td>NaN</td>\n",
       "      <td>0</td>\n",
       "    </tr>\n",
       "    <tr>\n",
       "      <th>54</th>\n",
       "      <td>4.0</td>\n",
       "      <td>53.0</td>\n",
       "      <td>NaN</td>\n",
       "      <td>5.0</td>\n",
       "      <td>3.0</td>\n",
       "      <td>1</td>\n",
       "    </tr>\n",
       "    <tr>\n",
       "      <th>55</th>\n",
       "      <td>4.0</td>\n",
       "      <td>43.0</td>\n",
       "      <td>3.0</td>\n",
       "      <td>4.0</td>\n",
       "      <td>NaN</td>\n",
       "      <td>0</td>\n",
       "    </tr>\n",
       "    <tr>\n",
       "      <th>57</th>\n",
       "      <td>5.0</td>\n",
       "      <td>51.0</td>\n",
       "      <td>2.0</td>\n",
       "      <td>4.0</td>\n",
       "      <td>NaN</td>\n",
       "      <td>0</td>\n",
       "    </tr>\n",
       "    <tr>\n",
       "      <th>58</th>\n",
       "      <td>4.0</td>\n",
       "      <td>45.0</td>\n",
       "      <td>2.0</td>\n",
       "      <td>1.0</td>\n",
       "      <td>NaN</td>\n",
       "      <td>0</td>\n",
       "    </tr>\n",
       "    <tr>\n",
       "      <th>59</th>\n",
       "      <td>5.0</td>\n",
       "      <td>59.0</td>\n",
       "      <td>2.0</td>\n",
       "      <td>NaN</td>\n",
       "      <td>NaN</td>\n",
       "      <td>1</td>\n",
       "    </tr>\n",
       "    <tr>\n",
       "      <th>63</th>\n",
       "      <td>3.0</td>\n",
       "      <td>57.0</td>\n",
       "      <td>2.0</td>\n",
       "      <td>1.0</td>\n",
       "      <td>NaN</td>\n",
       "      <td>0</td>\n",
       "    </tr>\n",
       "    <tr>\n",
       "      <th>65</th>\n",
       "      <td>4.0</td>\n",
       "      <td>25.0</td>\n",
       "      <td>2.0</td>\n",
       "      <td>1.0</td>\n",
       "      <td>NaN</td>\n",
       "      <td>0</td>\n",
       "    </tr>\n",
       "    <tr>\n",
       "      <th>67</th>\n",
       "      <td>5.0</td>\n",
       "      <td>72.0</td>\n",
       "      <td>4.0</td>\n",
       "      <td>3.0</td>\n",
       "      <td>NaN</td>\n",
       "      <td>1</td>\n",
       "    </tr>\n",
       "    <tr>\n",
       "      <th>74</th>\n",
       "      <td>5.0</td>\n",
       "      <td>70.0</td>\n",
       "      <td>NaN</td>\n",
       "      <td>4.0</td>\n",
       "      <td>NaN</td>\n",
       "      <td>1</td>\n",
       "    </tr>\n",
       "    <tr>\n",
       "      <th>...</th>\n",
       "      <td>...</td>\n",
       "      <td>...</td>\n",
       "      <td>...</td>\n",
       "      <td>...</td>\n",
       "      <td>...</td>\n",
       "      <td>...</td>\n",
       "    </tr>\n",
       "    <tr>\n",
       "      <th>496</th>\n",
       "      <td>4.0</td>\n",
       "      <td>82.0</td>\n",
       "      <td>NaN</td>\n",
       "      <td>5.0</td>\n",
       "      <td>3.0</td>\n",
       "      <td>1</td>\n",
       "    </tr>\n",
       "    <tr>\n",
       "      <th>501</th>\n",
       "      <td>5.0</td>\n",
       "      <td>59.0</td>\n",
       "      <td>4.0</td>\n",
       "      <td>4.0</td>\n",
       "      <td>NaN</td>\n",
       "      <td>1</td>\n",
       "    </tr>\n",
       "    <tr>\n",
       "      <th>519</th>\n",
       "      <td>3.0</td>\n",
       "      <td>68.0</td>\n",
       "      <td>NaN</td>\n",
       "      <td>NaN</td>\n",
       "      <td>3.0</td>\n",
       "      <td>0</td>\n",
       "    </tr>\n",
       "    <tr>\n",
       "      <th>520</th>\n",
       "      <td>4.0</td>\n",
       "      <td>62.0</td>\n",
       "      <td>4.0</td>\n",
       "      <td>NaN</td>\n",
       "      <td>3.0</td>\n",
       "      <td>1</td>\n",
       "    </tr>\n",
       "    <tr>\n",
       "      <th>521</th>\n",
       "      <td>5.0</td>\n",
       "      <td>65.0</td>\n",
       "      <td>1.0</td>\n",
       "      <td>NaN</td>\n",
       "      <td>3.0</td>\n",
       "      <td>1</td>\n",
       "    </tr>\n",
       "    <tr>\n",
       "      <th>531</th>\n",
       "      <td>4.0</td>\n",
       "      <td>55.0</td>\n",
       "      <td>NaN</td>\n",
       "      <td>NaN</td>\n",
       "      <td>3.0</td>\n",
       "      <td>0</td>\n",
       "    </tr>\n",
       "    <tr>\n",
       "      <th>537</th>\n",
       "      <td>5.0</td>\n",
       "      <td>63.0</td>\n",
       "      <td>NaN</td>\n",
       "      <td>4.0</td>\n",
       "      <td>3.0</td>\n",
       "      <td>1</td>\n",
       "    </tr>\n",
       "    <tr>\n",
       "      <th>541</th>\n",
       "      <td>4.0</td>\n",
       "      <td>49.0</td>\n",
       "      <td>2.0</td>\n",
       "      <td>NaN</td>\n",
       "      <td>3.0</td>\n",
       "      <td>0</td>\n",
       "    </tr>\n",
       "    <tr>\n",
       "      <th>554</th>\n",
       "      <td>5.0</td>\n",
       "      <td>70.0</td>\n",
       "      <td>NaN</td>\n",
       "      <td>5.0</td>\n",
       "      <td>3.0</td>\n",
       "      <td>1</td>\n",
       "    </tr>\n",
       "    <tr>\n",
       "      <th>561</th>\n",
       "      <td>2.0</td>\n",
       "      <td>59.0</td>\n",
       "      <td>NaN</td>\n",
       "      <td>4.0</td>\n",
       "      <td>3.0</td>\n",
       "      <td>0</td>\n",
       "    </tr>\n",
       "    <tr>\n",
       "      <th>569</th>\n",
       "      <td>4.0</td>\n",
       "      <td>64.0</td>\n",
       "      <td>3.0</td>\n",
       "      <td>4.0</td>\n",
       "      <td>NaN</td>\n",
       "      <td>1</td>\n",
       "    </tr>\n",
       "    <tr>\n",
       "      <th>574</th>\n",
       "      <td>4.0</td>\n",
       "      <td>60.0</td>\n",
       "      <td>3.0</td>\n",
       "      <td>NaN</td>\n",
       "      <td>NaN</td>\n",
       "      <td>0</td>\n",
       "    </tr>\n",
       "    <tr>\n",
       "      <th>581</th>\n",
       "      <td>2.0</td>\n",
       "      <td>65.0</td>\n",
       "      <td>NaN</td>\n",
       "      <td>1.0</td>\n",
       "      <td>2.0</td>\n",
       "      <td>0</td>\n",
       "    </tr>\n",
       "    <tr>\n",
       "      <th>614</th>\n",
       "      <td>3.0</td>\n",
       "      <td>46.0</td>\n",
       "      <td>NaN</td>\n",
       "      <td>5.0</td>\n",
       "      <td>NaN</td>\n",
       "      <td>1</td>\n",
       "    </tr>\n",
       "    <tr>\n",
       "      <th>627</th>\n",
       "      <td>4.0</td>\n",
       "      <td>57.0</td>\n",
       "      <td>2.0</td>\n",
       "      <td>1.0</td>\n",
       "      <td>NaN</td>\n",
       "      <td>0</td>\n",
       "    </tr>\n",
       "    <tr>\n",
       "      <th>660</th>\n",
       "      <td>4.0</td>\n",
       "      <td>58.0</td>\n",
       "      <td>NaN</td>\n",
       "      <td>4.0</td>\n",
       "      <td>3.0</td>\n",
       "      <td>1</td>\n",
       "    </tr>\n",
       "    <tr>\n",
       "      <th>661</th>\n",
       "      <td>4.0</td>\n",
       "      <td>51.0</td>\n",
       "      <td>NaN</td>\n",
       "      <td>4.0</td>\n",
       "      <td>3.0</td>\n",
       "      <td>0</td>\n",
       "    </tr>\n",
       "    <tr>\n",
       "      <th>662</th>\n",
       "      <td>3.0</td>\n",
       "      <td>50.0</td>\n",
       "      <td>NaN</td>\n",
       "      <td>NaN</td>\n",
       "      <td>3.0</td>\n",
       "      <td>1</td>\n",
       "    </tr>\n",
       "    <tr>\n",
       "      <th>665</th>\n",
       "      <td>4.0</td>\n",
       "      <td>27.0</td>\n",
       "      <td>2.0</td>\n",
       "      <td>1.0</td>\n",
       "      <td>NaN</td>\n",
       "      <td>0</td>\n",
       "    </tr>\n",
       "    <tr>\n",
       "      <th>677</th>\n",
       "      <td>4.0</td>\n",
       "      <td>57.0</td>\n",
       "      <td>4.0</td>\n",
       "      <td>4.0</td>\n",
       "      <td>NaN</td>\n",
       "      <td>1</td>\n",
       "    </tr>\n",
       "    <tr>\n",
       "      <th>683</th>\n",
       "      <td>5.0</td>\n",
       "      <td>NaN</td>\n",
       "      <td>3.0</td>\n",
       "      <td>3.0</td>\n",
       "      <td>3.0</td>\n",
       "      <td>1</td>\n",
       "    </tr>\n",
       "    <tr>\n",
       "      <th>691</th>\n",
       "      <td>4.0</td>\n",
       "      <td>72.0</td>\n",
       "      <td>3.0</td>\n",
       "      <td>NaN</td>\n",
       "      <td>3.0</td>\n",
       "      <td>0</td>\n",
       "    </tr>\n",
       "    <tr>\n",
       "      <th>723</th>\n",
       "      <td>4.0</td>\n",
       "      <td>60.0</td>\n",
       "      <td>3.0</td>\n",
       "      <td>NaN</td>\n",
       "      <td>4.0</td>\n",
       "      <td>0</td>\n",
       "    </tr>\n",
       "    <tr>\n",
       "      <th>745</th>\n",
       "      <td>6.0</td>\n",
       "      <td>76.0</td>\n",
       "      <td>3.0</td>\n",
       "      <td>NaN</td>\n",
       "      <td>3.0</td>\n",
       "      <td>0</td>\n",
       "    </tr>\n",
       "    <tr>\n",
       "      <th>752</th>\n",
       "      <td>5.0</td>\n",
       "      <td>48.0</td>\n",
       "      <td>NaN</td>\n",
       "      <td>4.0</td>\n",
       "      <td>NaN</td>\n",
       "      <td>1</td>\n",
       "    </tr>\n",
       "    <tr>\n",
       "      <th>778</th>\n",
       "      <td>4.0</td>\n",
       "      <td>60.0</td>\n",
       "      <td>NaN</td>\n",
       "      <td>4.0</td>\n",
       "      <td>3.0</td>\n",
       "      <td>0</td>\n",
       "    </tr>\n",
       "    <tr>\n",
       "      <th>819</th>\n",
       "      <td>4.0</td>\n",
       "      <td>35.0</td>\n",
       "      <td>3.0</td>\n",
       "      <td>NaN</td>\n",
       "      <td>2.0</td>\n",
       "      <td>0</td>\n",
       "    </tr>\n",
       "    <tr>\n",
       "      <th>824</th>\n",
       "      <td>6.0</td>\n",
       "      <td>40.0</td>\n",
       "      <td>NaN</td>\n",
       "      <td>3.0</td>\n",
       "      <td>4.0</td>\n",
       "      <td>1</td>\n",
       "    </tr>\n",
       "    <tr>\n",
       "      <th>884</th>\n",
       "      <td>5.0</td>\n",
       "      <td>NaN</td>\n",
       "      <td>4.0</td>\n",
       "      <td>4.0</td>\n",
       "      <td>3.0</td>\n",
       "      <td>1</td>\n",
       "    </tr>\n",
       "    <tr>\n",
       "      <th>923</th>\n",
       "      <td>5.0</td>\n",
       "      <td>NaN</td>\n",
       "      <td>4.0</td>\n",
       "      <td>3.0</td>\n",
       "      <td>3.0</td>\n",
       "      <td>1</td>\n",
       "    </tr>\n",
       "  </tbody>\n",
       "</table>\n",
       "<p>130 rows × 6 columns</p>\n",
       "</div>"
      ],
      "text/plain": [
       "     BI-RADS   Age  Shape  Margin  Density  Severity\n",
       "1        4.0  43.0    1.0     1.0      NaN         1\n",
       "4        5.0  74.0    1.0     5.0      NaN         1\n",
       "5        4.0  65.0    1.0     NaN      3.0         0\n",
       "6        4.0  70.0    NaN     NaN      3.0         0\n",
       "7        5.0  42.0    1.0     NaN      3.0         0\n",
       "9        5.0  60.0    NaN     5.0      1.0         1\n",
       "12       4.0  64.0    1.0     NaN      3.0         0\n",
       "19       4.0  40.0    1.0     NaN      NaN         0\n",
       "20       NaN  66.0    NaN     NaN      1.0         1\n",
       "22       4.0  43.0    1.0     NaN      NaN         0\n",
       "26       2.0  66.0    1.0     1.0      NaN         0\n",
       "27       5.0  63.0    3.0     NaN      3.0         0\n",
       "35       4.0  77.0    3.0     NaN      NaN         0\n",
       "38       4.0  48.0    4.0     5.0      NaN         1\n",
       "40       4.0  59.0    2.0     1.0      NaN         0\n",
       "43       4.0  61.0    2.0     1.0      NaN         0\n",
       "45       5.0  44.0    2.0     4.0      NaN         1\n",
       "47       4.0  23.0    1.0     1.0      NaN         0\n",
       "48       2.0  42.0    NaN     NaN      4.0         0\n",
       "52       4.0  23.0    1.0     1.0      NaN         0\n",
       "53       4.0  63.0    2.0     1.0      NaN         0\n",
       "54       4.0  53.0    NaN     5.0      3.0         1\n",
       "55       4.0  43.0    3.0     4.0      NaN         0\n",
       "57       5.0  51.0    2.0     4.0      NaN         0\n",
       "58       4.0  45.0    2.0     1.0      NaN         0\n",
       "59       5.0  59.0    2.0     NaN      NaN         1\n",
       "63       3.0  57.0    2.0     1.0      NaN         0\n",
       "65       4.0  25.0    2.0     1.0      NaN         0\n",
       "67       5.0  72.0    4.0     3.0      NaN         1\n",
       "74       5.0  70.0    NaN     4.0      NaN         1\n",
       "..       ...   ...    ...     ...      ...       ...\n",
       "496      4.0  82.0    NaN     5.0      3.0         1\n",
       "501      5.0  59.0    4.0     4.0      NaN         1\n",
       "519      3.0  68.0    NaN     NaN      3.0         0\n",
       "520      4.0  62.0    4.0     NaN      3.0         1\n",
       "521      5.0  65.0    1.0     NaN      3.0         1\n",
       "531      4.0  55.0    NaN     NaN      3.0         0\n",
       "537      5.0  63.0    NaN     4.0      3.0         1\n",
       "541      4.0  49.0    2.0     NaN      3.0         0\n",
       "554      5.0  70.0    NaN     5.0      3.0         1\n",
       "561      2.0  59.0    NaN     4.0      3.0         0\n",
       "569      4.0  64.0    3.0     4.0      NaN         1\n",
       "574      4.0  60.0    3.0     NaN      NaN         0\n",
       "581      2.0  65.0    NaN     1.0      2.0         0\n",
       "614      3.0  46.0    NaN     5.0      NaN         1\n",
       "627      4.0  57.0    2.0     1.0      NaN         0\n",
       "660      4.0  58.0    NaN     4.0      3.0         1\n",
       "661      4.0  51.0    NaN     4.0      3.0         0\n",
       "662      3.0  50.0    NaN     NaN      3.0         1\n",
       "665      4.0  27.0    2.0     1.0      NaN         0\n",
       "677      4.0  57.0    4.0     4.0      NaN         1\n",
       "683      5.0   NaN    3.0     3.0      3.0         1\n",
       "691      4.0  72.0    3.0     NaN      3.0         0\n",
       "723      4.0  60.0    3.0     NaN      4.0         0\n",
       "745      6.0  76.0    3.0     NaN      3.0         0\n",
       "752      5.0  48.0    NaN     4.0      NaN         1\n",
       "778      4.0  60.0    NaN     4.0      3.0         0\n",
       "819      4.0  35.0    3.0     NaN      2.0         0\n",
       "824      6.0  40.0    NaN     3.0      4.0         1\n",
       "884      5.0   NaN    4.0     4.0      3.0         1\n",
       "923      5.0   NaN    4.0     3.0      3.0         1\n",
       "\n",
       "[130 rows x 6 columns]"
      ]
     },
     "execution_count": 26,
     "metadata": {},
     "output_type": "execute_result"
    }
   ],
   "source": [
    "masses_data.loc[(masses_data['Age'].isnull()) |\n",
    "              (masses_data['Shape'].isnull()) |\n",
    "              (masses_data['Margin'].isnull()) |\n",
    "              (masses_data['Density'].isnull())]"
   ]
  },
  {
   "cell_type": "code",
   "execution_count": 29,
   "metadata": {},
   "outputs": [
    {
     "data": {
      "text/plain": [
       "<matplotlib.collections.PathCollection at 0x1070b09e8>"
      ]
     },
     "execution_count": 29,
     "metadata": {},
     "output_type": "execute_result"
    },
    {
     "data": {
      "image/png": "[encoded data removed]",
      "text/plain": [
       "<Figure size 432x288 with 1 Axes>"
      ]
     },
     "metadata": {
      "needs_background": "light"
     },
     "output_type": "display_data"
    }
   ],
   "source": [
    "plt.scatter(range(len(masses_data)), masses_data[\"Age\"])"
   ]
  },
  {
   "cell_type": "code",
   "execution_count": 31,
   "metadata": {},
   "outputs": [],
   "source": [
    "drop_only = masses_data.loc[(masses_data['Age'].isnull()) |\n",
    "              (masses_data['Shape'].isnull()) |\n",
    "              (masses_data['Margin'].isnull()) |\n",
    "              (masses_data['Density'].isnull())]"
   ]
  },
  {
   "cell_type": "code",
   "execution_count": null,
   "metadata": {},
   "outputs": [],
   "source": [
    "plt.scatter(range(len(drop_only), masses_data[\"Age\"])"
   ]
  },
  {
   "cell_type": "code",
   "execution_count": null,
   "metadata": {},
   "outputs": [],
   "source": [
    "## learn how to check differences"
   ]
  },
  {
   "cell_type": "code",
   "execution_count": 32,
   "metadata": {},
   "outputs": [
    {
     "data": {
      "text/html": [
       "<div>\n",
       "<style scoped>\n",
       "    .dataframe tbody tr th:only-of-type {\n",
       "        vertical-align: middle;\n",
       "    }\n",
       "\n",
       "    .dataframe tbody tr th {\n",
       "        vertical-align: top;\n",
       "    }\n",
       "\n",
       "    .dataframe thead th {\n",
       "        text-align: right;\n",
       "    }\n",
       "</style>\n",
       "<table border=\"1\" class=\"dataframe\">\n",
       "  <thead>\n",
       "    <tr style=\"text-align: right;\">\n",
       "      <th></th>\n",
       "      <th>BI-RADS</th>\n",
       "      <th>Age</th>\n",
       "      <th>Shape</th>\n",
       "      <th>Margin</th>\n",
       "      <th>Density</th>\n",
       "      <th>Severity</th>\n",
       "    </tr>\n",
       "  </thead>\n",
       "  <tbody>\n",
       "    <tr>\n",
       "      <th>count</th>\n",
       "      <td>830.000000</td>\n",
       "      <td>830.000000</td>\n",
       "      <td>830.000000</td>\n",
       "      <td>830.000000</td>\n",
       "      <td>830.000000</td>\n",
       "      <td>830.000000</td>\n",
       "    </tr>\n",
       "    <tr>\n",
       "      <th>mean</th>\n",
       "      <td>4.393976</td>\n",
       "      <td>55.781928</td>\n",
       "      <td>2.781928</td>\n",
       "      <td>2.813253</td>\n",
       "      <td>2.915663</td>\n",
       "      <td>0.485542</td>\n",
       "    </tr>\n",
       "    <tr>\n",
       "      <th>std</th>\n",
       "      <td>1.888371</td>\n",
       "      <td>14.671782</td>\n",
       "      <td>1.242361</td>\n",
       "      <td>1.567175</td>\n",
       "      <td>0.350936</td>\n",
       "      <td>0.500092</td>\n",
       "    </tr>\n",
       "    <tr>\n",
       "      <th>min</th>\n",
       "      <td>0.000000</td>\n",
       "      <td>18.000000</td>\n",
       "      <td>1.000000</td>\n",
       "      <td>1.000000</td>\n",
       "      <td>1.000000</td>\n",
       "      <td>0.000000</td>\n",
       "    </tr>\n",
       "    <tr>\n",
       "      <th>25%</th>\n",
       "      <td>4.000000</td>\n",
       "      <td>46.000000</td>\n",
       "      <td>2.000000</td>\n",
       "      <td>1.000000</td>\n",
       "      <td>3.000000</td>\n",
       "      <td>0.000000</td>\n",
       "    </tr>\n",
       "    <tr>\n",
       "      <th>50%</th>\n",
       "      <td>4.000000</td>\n",
       "      <td>57.000000</td>\n",
       "      <td>3.000000</td>\n",
       "      <td>3.000000</td>\n",
       "      <td>3.000000</td>\n",
       "      <td>0.000000</td>\n",
       "    </tr>\n",
       "    <tr>\n",
       "      <th>75%</th>\n",
       "      <td>5.000000</td>\n",
       "      <td>66.000000</td>\n",
       "      <td>4.000000</td>\n",
       "      <td>4.000000</td>\n",
       "      <td>3.000000</td>\n",
       "      <td>1.000000</td>\n",
       "    </tr>\n",
       "    <tr>\n",
       "      <th>max</th>\n",
       "      <td>55.000000</td>\n",
       "      <td>96.000000</td>\n",
       "      <td>4.000000</td>\n",
       "      <td>5.000000</td>\n",
       "      <td>4.000000</td>\n",
       "      <td>1.000000</td>\n",
       "    </tr>\n",
       "  </tbody>\n",
       "</table>\n",
       "</div>"
      ],
      "text/plain": [
       "          BI-RADS         Age       Shape      Margin     Density    Severity\n",
       "count  830.000000  830.000000  830.000000  830.000000  830.000000  830.000000\n",
       "mean     4.393976   55.781928    2.781928    2.813253    2.915663    0.485542\n",
       "std      1.888371   14.671782    1.242361    1.567175    0.350936    0.500092\n",
       "min      0.000000   18.000000    1.000000    1.000000    1.000000    0.000000\n",
       "25%      4.000000   46.000000    2.000000    1.000000    3.000000    0.000000\n",
       "50%      4.000000   57.000000    3.000000    3.000000    3.000000    0.000000\n",
       "75%      5.000000   66.000000    4.000000    4.000000    3.000000    1.000000\n",
       "max     55.000000   96.000000    4.000000    5.000000    4.000000    1.000000"
      ]
     },
     "execution_count": 32,
     "metadata": {},
     "output_type": "execute_result"
    }
   ],
   "source": [
    "masses_data.dropna(inplace=True)\n",
    "masses_data.describe()"
   ]
  },
  {
   "cell_type": "markdown",
   "metadata": {
    "collapsed": true
   },
   "source": [
    "Next you'll need to convert the Pandas dataframes into numpy arrays that can be used by scikit_learn. Create an array that extracts only the feature data we want to work with (age, shape, margin, and density) and another array that contains the classes (severity). You'll also need an array of the feature name labels."
   ]
  },
  {
   "cell_type": "markdown",
   "metadata": {},
   "source": [
    "create the dataset"
   ]
  },
  {
   "cell_type": "code",
   "execution_count": 35,
   "metadata": {},
   "outputs": [],
   "source": [
    "all_features = masses_data[['Age','Shape', 'Margin', 'Density']].values"
   ]
  },
  {
   "cell_type": "code",
   "execution_count": 36,
   "metadata": {},
   "outputs": [
    {
     "data": {
      "text/plain": [
       "array([[67.,  3.,  5.,  3.],\n",
       "       [58.,  4.,  5.,  3.],\n",
       "       [28.,  1.,  1.,  3.],\n",
       "       ...,\n",
       "       [64.,  4.,  5.,  3.],\n",
       "       [66.,  4.,  5.,  3.],\n",
       "       [62.,  3.,  3.,  3.]])"
      ]
     },
     "execution_count": 36,
     "metadata": {},
     "output_type": "execute_result"
    }
   ],
   "source": [
    "all_features"
   ]
  },
  {
   "cell_type": "markdown",
   "metadata": {},
   "source": [
    "Create the label for the end part of the dataset"
   ]
  },
  {
   "cell_type": "code",
   "execution_count": 38,
   "metadata": {},
   "outputs": [],
   "source": [
    "all_classes = masses_data['Severity'].values"
   ]
  },
  {
   "cell_type": "code",
   "execution_count": 41,
   "metadata": {},
   "outputs": [
    {
     "data": {
      "text/plain": [
       "array([1, 1, 0, 1, 1, 1, 0, 0, 0, 0])"
      ]
     },
     "execution_count": 41,
     "metadata": {},
     "output_type": "execute_result"
    }
   ],
   "source": [
    "all_classes[:10]"
   ]
  },
  {
   "cell_type": "code",
   "execution_count": 44,
   "metadata": {},
   "outputs": [
    {
     "name": "stdout",
     "output_type": "stream",
     "text": [
      "830 830\n"
     ]
    }
   ],
   "source": [
    "#double checking the whole length\n",
    "print(len(all_features), len(all_classes ))"
   ]
  },
  {
   "cell_type": "markdown",
   "metadata": {},
   "source": [
    "Some of our models require the input data to be normalized, so go ahead and normalize the attribute data. Hint: use preprocessing.StandardScaler()."
   ]
  },
  {
   "cell_type": "code",
   "execution_count": 45,
   "metadata": {},
   "outputs": [
    {
     "data": {
      "text/plain": [
       "array([[ 0.7650629 ,  0.17563638,  1.39618483,  0.24046607],\n",
       "       [ 0.15127063,  0.98104077,  1.39618483,  0.24046607],\n",
       "       [-1.89470363, -1.43517241, -1.157718  ,  0.24046607],\n",
       "       ...,\n",
       "       [ 0.56046548,  0.98104077,  1.39618483,  0.24046607],\n",
       "       [ 0.69686376,  0.98104077,  1.39618483,  0.24046607],\n",
       "       [ 0.42406719,  0.17563638,  0.11923341,  0.24046607]])"
      ]
     },
     "execution_count": 45,
     "metadata": {},
     "output_type": "execute_result"
    }
   ],
   "source": [
    "from sklearn import preprocessing\n",
    "\n",
    "scaler = preprocessing.StandardScaler()\n",
    "all_features_scaled = scaler.fit_transform(all_features)\n",
    "all_features_scaled"
   ]
  },
  {
   "cell_type": "code",
   "execution_count": 53,
   "metadata": {},
   "outputs": [
    {
     "data": {
      "image/png": "[encoded data removed]",
      "text/plain": [
       "<Figure size 432x288 with 1 Axes>"
      ]
     },
     "metadata": {
      "needs_background": "light"
     },
     "output_type": "display_data"
    },
    {
     "data": {
      "image/png": "[encoded data removed]",
      "text/plain": [
       "<Figure size 432x288 with 1 Axes>"
      ]
     },
     "metadata": {
      "needs_background": "light"
     },
     "output_type": "display_data"
    },
    {
     "data": {
      "image/png": "[encoded data removed]",
      "text/plain": [
       "<Figure size 432x288 with 1 Axes>"
      ]
     },
     "metadata": {
      "needs_background": "light"
     },
     "output_type": "display_data"
    },
    {
     "data": {
      "image/png": "[encoded data removed]",
      "text/plain": [
       "<Figure size 432x288 with 1 Axes>"
      ]
     },
     "metadata": {
      "needs_background": "light"
     },
     "output_type": "display_data"
    }
   ],
   "source": [
    "list = ['Age','Shape', 'Margin', 'Density']\n",
    "for i in range(4):\n",
    "    plt.title(list[i])\n",
    "    plt.hist(all_features[:, i])\n",
    "    plt.show()"
   ]
  },
  {
   "cell_type": "code",
   "execution_count": 54,
   "metadata": {},
   "outputs": [
    {
     "data": {
      "image/png": "[encoded data removed]",
      "text/plain": [
       "<Figure size 432x288 with 1 Axes>"
      ]
     },
     "metadata": {
      "needs_background": "light"
     },
     "output_type": "display_data"
    },
    {
     "data": {
      "image/png": "[encoded data removed]",
      "text/plain": [
       "<Figure size 432x288 with 1 Axes>"
      ]
     },
     "metadata": {
      "needs_background": "light"
     },
     "output_type": "display_data"
    },
    {
     "data": {
      "image/png": "[encoded data removed]",
      "text/plain": [
       "<Figure size 432x288 with 1 Axes>"
      ]
     },
     "metadata": {
      "needs_background": "light"
     },
     "output_type": "display_data"
    },
    {
     "data": {
      "image/png": "[encoded data removed]",
      "text/plain": [
       "<Figure size 432x288 with 1 Axes>"
      ]
     },
     "metadata": {
      "needs_background": "light"
     },
     "output_type": "display_data"
    }
   ],
   "source": [
    "list = ['Age','Shape', 'Margin', 'Density']\n",
    "for i in range(4):\n",
    "    plt.title(list[i])\n",
    "    plt.hist(all_features_scaled[:, i])\n",
    "    plt.show()"
   ]
  },
  {
   "cell_type": "markdown",
   "metadata": {},
   "source": [
    "We can see the data has been normalised"
   ]
  },
  {
   "cell_type": "markdown",
   "metadata": {},
   "source": [
    "## Decision Trees\n",
    "\n",
    "Before moving to K-Fold cross validation and random forests, start by creating a single train/test split of our data. Set aside 75% for training, and 25% for testing."
   ]
  },
  {
   "cell_type": "code",
   "execution_count": 56,
   "metadata": {},
   "outputs": [],
   "source": [
    "from sklearn.model_selection import train_test_split "
   ]
  },
  {
   "cell_type": "code",
   "execution_count": 58,
   "metadata": {},
   "outputs": [],
   "source": [
    "X_train, X_test, y_train, y_test = train_test_split(all_features_scaled, all_classes, test_size=0.25, random_state=0)"
   ]
  },
  {
   "cell_type": "markdown",
   "metadata": {},
   "source": [
    "Now create a DecisionTreeClassifier and fit it to your training data."
   ]
  },
  {
   "cell_type": "code",
   "execution_count": 59,
   "metadata": {},
   "outputs": [],
   "source": [
    "clf = tree.DecisionTreeClassifier()"
   ]
  },
  {
   "cell_type": "code",
   "execution_count": 60,
   "metadata": {},
   "outputs": [
    {
     "data": {
      "text/plain": [
       "array([1, 1, 1, 0, 0, 1, 1, 1, 1, 1, 0, 1, 1, 1, 1, 0, 1, 1, 1, 1, 1, 1,\n",
       "       1, 0, 1, 1, 0, 0, 1, 0, 1, 1, 0, 1, 1, 0, 0, 0, 0, 1, 1, 0, 1, 0,\n",
       "       0, 0, 0, 0, 0, 1, 1, 1, 0, 0, 0, 0, 1, 0, 0, 0, 1, 0, 0, 1, 1, 1,\n",
       "       0, 1, 1, 0, 0, 1, 0, 1, 1, 0, 0, 0, 1, 0, 0, 0, 1, 1, 1, 0, 0, 0,\n",
       "       0, 1, 1, 1, 1, 1, 0, 1, 0, 0, 1, 0, 1, 0, 0, 1, 0, 0, 1, 1, 1, 1,\n",
       "       0, 0, 1, 1, 0, 1, 0, 0, 0, 1, 1, 1, 0, 0, 1, 0, 1, 1, 0, 0, 0, 0,\n",
       "       0, 0, 1, 0, 0, 1, 1, 0, 1, 0, 1, 0, 1, 0, 1, 1, 1, 1, 0, 1, 1, 1,\n",
       "       0, 0, 0, 1, 0, 0, 0, 0, 0, 1, 1, 0, 1, 1, 0, 0, 0, 0, 0, 1, 0, 1,\n",
       "       0, 1, 1, 1, 1, 0, 1, 0, 0, 1, 1, 1, 0, 1, 0, 0, 0, 1, 0, 0, 1, 0,\n",
       "       1, 0, 1, 0, 1, 1, 0, 1, 1, 1])"
      ]
     },
     "execution_count": 60,
     "metadata": {},
     "output_type": "execute_result"
    }
   ],
   "source": [
    "clf =  clf.fit(X_train, y_train)\n",
    "clf.predict(X_test)"
   ]
  },
  {
   "cell_type": "code",
   "execution_count": 61,
   "metadata": {},
   "outputs": [
    {
     "data": {
      "text/plain": [
       "array([0, 0, 1, 0, 0, 1, 1, 1, 1, 0, 0, 1, 1, 0, 1, 1, 1, 1, 1, 1, 1, 1,\n",
       "       0, 0, 0, 1, 1, 1, 0, 0, 0, 0, 0, 1, 1, 1, 1, 0, 0, 1, 0, 1, 1, 0,\n",
       "       1, 0, 0, 0, 1, 1, 1, 1, 0, 0, 0, 0, 1, 0, 0, 1, 1, 0, 0, 0, 0, 0,\n",
       "       0, 1, 1, 0, 0, 1, 0, 1, 0, 0, 0, 0, 0, 0, 0, 0, 1, 1, 0, 0, 0, 0,\n",
       "       1, 0, 1, 1, 0, 1, 0, 1, 1, 0, 0, 0, 1, 1, 0, 1, 0, 1, 1, 1, 1, 1,\n",
       "       1, 1, 1, 0, 1, 0, 0, 0, 0, 1, 1, 1, 0, 1, 1, 0, 1, 0, 0, 0, 0, 0,\n",
       "       0, 0, 1, 0, 0, 0, 0, 0, 0, 0, 1, 0, 0, 0, 1, 1, 0, 1, 1, 1, 1, 1,\n",
       "       0, 1, 0, 0, 0, 0, 0, 1, 0, 0, 1, 0, 1, 1, 0, 1, 0, 0, 0, 0, 0, 1,\n",
       "       0, 1, 1, 1, 0, 0, 0, 0, 0, 1, 1, 0, 0, 1, 0, 1, 0, 1, 0, 1, 1, 0,\n",
       "       1, 1, 1, 1, 0, 1, 0, 1, 1, 1])"
      ]
     },
     "execution_count": 61,
     "metadata": {},
     "output_type": "execute_result"
    }
   ],
   "source": [
    "y_test"
   ]
  },
  {
   "cell_type": "code",
   "execution_count": null,
   "metadata": {},
   "outputs": [],
   "source": [
    "#comparing the two arrays it is noticed comparing both arrays it as miss labeled datapoints"
   ]
  },
  {
   "cell_type": "markdown",
   "metadata": {},
   "source": [
    "Display the resulting decision tree."
   ]
  },
  {
   "cell_type": "code",
   "execution_count": 64,
   "metadata": {},
   "outputs": [
    {
     "data": {
      "text/plain": [
       "<Figure size 7200x7200 with 0 Axes>"
      ]
     },
     "metadata": {},
     "output_type": "display_data"
    }
   ],
   "source": [
    "fig = plt.figure(figsize=(100,100))"
   ]
  },
  {
   "cell_type": "code",
   "execution_count": 62,
   "metadata": {},
   "outputs": [],
   "source": [
    "list_names = ['Age','Shape', 'Margin', 'Density']\n"
   ]
  },
  {
   "cell_type": "code",
   "execution_count": 68,
   "metadata": {},
   "outputs": [
    {
     "data": {
      "text/plain": [
       "[Text(124.85565785114841, 211.7178947368421, 'Margin <= -0.838\\nentropy = 0.5\\nsamples = 622\\nvalue = [316, 306]\\nclass = S'),\n",
       " Text(41.99787985865724, 200.2736842105263, 'Age <= 0.595\\nentropy = 0.208\\nsamples = 238\\nvalue = [210, 28]\\nclass = S'),\n",
       " Text(21.886219081272085, 188.82947368421054, 'Density <= -4.036\\nentropy = 0.157\\nsamples = 209\\nvalue = [191, 18]\\nclass = S'),\n",
       " Text(17.15406360424028, 177.38526315789474, 'Age <= -0.872\\nentropy = 0.48\\nsamples = 5\\nvalue = [3, 2]\\nclass = S'),\n",
       " Text(14.787985865724382, 165.94105263157894, 'entropy = 0.0\\nsamples = 2\\nvalue = [0, 2]\\nclass = e'),\n",
       " Text(19.520141342756183, 165.94105263157894, 'entropy = 0.0\\nsamples = 3\\nvalue = [3, 0]\\nclass = S'),\n",
       " Text(26.618374558303888, 177.38526315789474, 'Age <= -1.52\\nentropy = 0.145\\nsamples = 204\\nvalue = [188, 16]\\nclass = S'),\n",
       " Text(24.252296819787986, 165.94105263157894, 'entropy = 0.0\\nsamples = 44\\nvalue = [44, 0]\\nclass = S'),\n",
       " Text(28.98445229681979, 165.94105263157894, 'Age <= -1.451\\nentropy = 0.18\\nsamples = 160\\nvalue = [144, 16]\\nclass = S'),\n",
       " Text(26.618374558303888, 154.49684210526317, 'entropy = 0.5\\nsamples = 2\\nvalue = [1, 1]\\nclass = S'),\n",
       " Text(31.35053003533569, 154.49684210526317, 'Shape <= -0.227\\nentropy = 0.172\\nsamples = 158\\nvalue = [143, 15]\\nclass = S'),\n",
       " Text(26.618374558303888, 143.05263157894737, 'Age <= 0.254\\nentropy = 0.153\\nsamples = 144\\nvalue = [132, 12]\\nclass = S'),\n",
       " Text(24.252296819787986, 131.60842105263157, 'Age <= 0.117\\nentropy = 0.17\\nsamples = 128\\nvalue = [116, 12]\\nclass = S'),\n",
       " Text(19.520141342756183, 120.16421052631578, 'Age <= -0.087\\nentropy = 0.137\\nsamples = 122\\nvalue = [113, 9]\\nclass = S'),\n",
       " Text(17.15406360424028, 108.72, 'Age <= -0.156\\nentropy = 0.161\\nsamples = 102\\nvalue = [93, 9]\\nclass = S'),\n",
       " Text(12.42190812720848, 97.27578947368421, 'Density <= -1.185\\nentropy = 0.135\\nsamples = 96\\nvalue = [89, 7]\\nclass = S'),\n",
       " Text(10.055830388692579, 85.83157894736843, 'entropy = 0.0\\nsamples = 11\\nvalue = [11, 0]\\nclass = S'),\n",
       " Text(14.787985865724382, 85.83157894736843, 'Age <= -1.383\\nentropy = 0.151\\nsamples = 85\\nvalue = [78, 7]\\nclass = S'),\n",
       " Text(10.055830388692579, 74.38736842105263, 'Shape <= -1.032\\nentropy = 0.32\\nsamples = 5\\nvalue = [4, 1]\\nclass = S'),\n",
       " Text(7.689752650176678, 62.943157894736856, 'entropy = 0.0\\nsamples = 3\\nvalue = [3, 0]\\nclass = S'),\n",
       " Text(12.42190812720848, 62.943157894736856, 'entropy = 0.5\\nsamples = 2\\nvalue = [1, 1]\\nclass = S'),\n",
       " Text(19.520141342756183, 74.38736842105263, 'Age <= -1.042\\nentropy = 0.139\\nsamples = 80\\nvalue = [74, 6]\\nclass = S'),\n",
       " Text(17.15406360424028, 62.943157894736856, 'entropy = 0.0\\nsamples = 14\\nvalue = [14, 0]\\nclass = S'),\n",
       " Text(21.886219081272085, 62.943157894736856, 'Age <= -0.838\\nentropy = 0.165\\nsamples = 66\\nvalue = [60, 6]\\nclass = S'),\n",
       " Text(9.464310954063604, 51.49894736842106, 'Shape <= -1.032\\nentropy = 0.236\\nsamples = 22\\nvalue = [19, 3]\\nclass = S'),\n",
       " Text(4.732155477031802, 40.05473684210526, 'Age <= -0.974\\nentropy = 0.298\\nsamples = 11\\nvalue = [9, 2]\\nclass = S'),\n",
       " Text(2.366077738515901, 28.610526315789485, 'entropy = 0.375\\nsamples = 4\\nvalue = [3, 1]\\nclass = S'),\n",
       " Text(7.098233215547703, 28.610526315789485, 'Age <= -0.906\\nentropy = 0.245\\nsamples = 7\\nvalue = [6, 1]\\nclass = S'),\n",
       " Text(4.732155477031802, 17.166315789473686, 'entropy = 0.0\\nsamples = 3\\nvalue = [3, 0]\\nclass = S'),\n",
       " Text(9.464310954063604, 17.166315789473686, 'entropy = 0.375\\nsamples = 4\\nvalue = [3, 1]\\nclass = S'),\n",
       " Text(14.196466431095406, 40.05473684210526, 'Age <= -0.974\\nentropy = 0.165\\nsamples = 11\\nvalue = [10, 1]\\nclass = S'),\n",
       " Text(11.830388692579506, 28.610526315789485, 'entropy = 0.0\\nsamples = 4\\nvalue = [4, 0]\\nclass = S'),\n",
       " Text(16.562544169611307, 28.610526315789485, 'Age <= -0.906\\nentropy = 0.245\\nsamples = 7\\nvalue = [6, 1]\\nclass = S'),\n",
       " Text(14.196466431095406, 17.166315789473686, 'entropy = 0.444\\nsamples = 3\\nvalue = [2, 1]\\nclass = S'),\n",
       " Text(18.92862190812721, 17.166315789473686, 'entropy = 0.0\\nsamples = 4\\nvalue = [4, 0]\\nclass = S'),\n",
       " Text(34.30812720848056, 51.49894736842106, 'Age <= -0.497\\nentropy = 0.127\\nsamples = 44\\nvalue = [41, 3]\\nclass = S'),\n",
       " Text(31.942049469964665, 40.05473684210526, 'entropy = 0.0\\nsamples = 20\\nvalue = [20, 0]\\nclass = S'),\n",
       " Text(36.67420494699647, 40.05473684210526, 'Age <= -0.36\\nentropy = 0.219\\nsamples = 24\\nvalue = [21, 3]\\nclass = S'),\n",
       " Text(28.39293286219081, 28.610526315789485, 'Age <= -0.428\\nentropy = 0.278\\nsamples = 12\\nvalue = [10, 2]\\nclass = S'),\n",
       " Text(23.66077738515901, 17.166315789473686, 'Shape <= -1.032\\nentropy = 0.245\\nsamples = 7\\nvalue = [6, 1]\\nclass = S'),\n",
       " Text(21.29469964664311, 5.722105263157886, 'entropy = 0.32\\nsamples = 5\\nvalue = [4, 1]\\nclass = S'),\n",
       " Text(26.026855123674913, 5.722105263157886, 'entropy = 0.0\\nsamples = 2\\nvalue = [2, 0]\\nclass = S'),\n",
       " Text(33.125088339222614, 17.166315789473686, 'Shape <= -1.032\\nentropy = 0.32\\nsamples = 5\\nvalue = [4, 1]\\nclass = S'),\n",
       " Text(30.759010600706713, 5.722105263157886, 'entropy = 0.0\\nsamples = 2\\nvalue = [2, 0]\\nclass = S'),\n",
       " Text(35.49116607773852, 5.722105263157886, 'entropy = 0.444\\nsamples = 3\\nvalue = [2, 1]\\nclass = S'),\n",
       " Text(44.95547703180212, 28.610526315789485, 'Shape <= -1.032\\nentropy = 0.153\\nsamples = 12\\nvalue = [11, 1]\\nclass = S'),\n",
       " Text(42.58939929328622, 17.166315789473686, 'Age <= -0.224\\nentropy = 0.245\\nsamples = 7\\nvalue = [6, 1]\\nclass = S'),\n",
       " Text(40.223321554770315, 5.722105263157886, 'entropy = 0.0\\nsamples = 3\\nvalue = [3, 0]\\nclass = S'),\n",
       " Text(44.95547703180212, 5.722105263157886, 'entropy = 0.375\\nsamples = 4\\nvalue = [3, 1]\\nclass = S'),\n",
       " Text(47.32155477031802, 17.166315789473686, 'entropy = 0.0\\nsamples = 5\\nvalue = [5, 0]\\nclass = S'),\n",
       " Text(21.886219081272085, 97.27578947368421, 'Shape <= -1.032\\nentropy = 0.444\\nsamples = 6\\nvalue = [4, 2]\\nclass = S'),\n",
       " Text(19.520141342756183, 85.83157894736843, 'entropy = 0.375\\nsamples = 4\\nvalue = [3, 1]\\nclass = S'),\n",
       " Text(24.252296819787986, 85.83157894736843, 'entropy = 0.5\\nsamples = 2\\nvalue = [1, 1]\\nclass = S'),\n",
       " Text(21.886219081272085, 108.72, 'entropy = 0.0\\nsamples = 20\\nvalue = [20, 0]\\nclass = S'),\n",
       " Text(28.98445229681979, 120.16421052631578, 'Age <= 0.185\\nentropy = 0.5\\nsamples = 6\\nvalue = [3, 3]\\nclass = S'),\n",
       " Text(26.618374558303888, 108.72, 'entropy = 0.0\\nsamples = 1\\nvalue = [0, 1]\\nclass = e'),\n",
       " Text(31.35053003533569, 108.72, 'Shape <= -1.032\\nentropy = 0.48\\nsamples = 5\\nvalue = [3, 2]\\nclass = S'),\n",
       " Text(28.98445229681979, 97.27578947368421, 'entropy = 0.0\\nsamples = 2\\nvalue = [2, 0]\\nclass = S'),\n",
       " Text(33.71660777385159, 97.27578947368421, 'entropy = 0.444\\nsamples = 3\\nvalue = [1, 2]\\nclass = e'),\n",
       " Text(28.98445229681979, 131.60842105263157, 'entropy = 0.0\\nsamples = 16\\nvalue = [16, 0]\\nclass = S'),\n",
       " Text(36.08268551236749, 143.05263157894737, 'Age <= -0.804\\nentropy = 0.337\\nsamples = 14\\nvalue = [11, 3]\\nclass = S'),\n",
       " Text(33.71660777385159, 131.60842105263157, 'entropy = 0.0\\nsamples = 6\\nvalue = [6, 0]\\nclass = S'),\n",
       " Text(38.448763250883395, 131.60842105263157, 'Age <= -0.633\\nentropy = 0.469\\nsamples = 8\\nvalue = [5, 3]\\nclass = S'),\n",
       " Text(36.08268551236749, 120.16421052631578, 'entropy = 0.0\\nsamples = 2\\nvalue = [0, 2]\\nclass = e'),\n",
       " Text(40.81484098939929, 120.16421052631578, 'Age <= -0.053\\nentropy = 0.278\\nsamples = 6\\nvalue = [5, 1]\\nclass = S'),\n",
       " Text(38.448763250883395, 108.72, 'entropy = 0.0\\nsamples = 3\\nvalue = [3, 0]\\nclass = S'),\n",
       " Text(43.18091872791519, 108.72, 'Age <= 0.151\\nentropy = 0.444\\nsamples = 3\\nvalue = [2, 1]\\nclass = S'),\n",
       " Text(40.81484098939929, 97.27578947368421, 'entropy = 0.0\\nsamples = 1\\nvalue = [0, 1]\\nclass = e'),\n",
       " Text(45.5469964664311, 97.27578947368421, 'entropy = 0.0\\nsamples = 2\\nvalue = [2, 0]\\nclass = S'),\n",
       " Text(62.109540636042404, 188.82947368421054, 'Shape <= -1.032\\nentropy = 0.452\\nsamples = 29\\nvalue = [19, 10]\\nclass = S'),\n",
       " Text(57.3773851590106, 177.38526315789474, 'Age <= 1.311\\nentropy = 0.5\\nsamples = 14\\nvalue = [7, 7]\\nclass = S'),\n",
       " Text(55.0113074204947, 165.94105263157894, 'Age <= 1.004\\nentropy = 0.463\\nsamples = 11\\nvalue = [4, 7]\\nclass = e'),\n",
       " Text(52.6452296819788, 154.49684210526317, 'Age <= 0.867\\nentropy = 0.5\\nsamples = 8\\nvalue = [4, 4]\\nclass = S'),\n",
       " Text(50.2791519434629, 143.05263157894737, 'Age <= 0.765\\nentropy = 0.444\\nsamples = 6\\nvalue = [2, 4]\\nclass = e'),\n",
       " Text(47.913074204946994, 131.60842105263157, 'Age <= 0.663\\nentropy = 0.5\\nsamples = 4\\nvalue = [2, 2]\\nclass = S'),\n",
       " Text(45.5469964664311, 120.16421052631578, 'entropy = 0.0\\nsamples = 1\\nvalue = [0, 1]\\nclass = e'),\n",
       " Text(50.2791519434629, 120.16421052631578, 'entropy = 0.444\\nsamples = 3\\nvalue = [2, 1]\\nclass = S'),\n",
       " Text(52.6452296819788, 131.60842105263157, 'entropy = 0.0\\nsamples = 2\\nvalue = [0, 2]\\nclass = e'),\n",
       " Text(55.0113074204947, 143.05263157894737, 'entropy = 0.0\\nsamples = 2\\nvalue = [2, 0]\\nclass = S'),\n",
       " Text(57.3773851590106, 154.49684210526317, 'entropy = 0.0\\nsamples = 3\\nvalue = [0, 3]\\nclass = e'),\n",
       " Text(59.743462897526506, 165.94105263157894, 'entropy = 0.0\\nsamples = 3\\nvalue = [3, 0]\\nclass = S'),\n",
       " Text(66.8416961130742, 177.38526315789474, 'Age <= 1.208\\nentropy = 0.32\\nsamples = 15\\nvalue = [12, 3]\\nclass = S'),\n",
       " Text(64.47561837455831, 165.94105263157894, 'Age <= 0.936\\nentropy = 0.142\\nsamples = 13\\nvalue = [12, 1]\\nclass = S'),\n",
       " Text(62.109540636042404, 154.49684210526317, 'Age <= 0.867\\nentropy = 0.278\\nsamples = 6\\nvalue = [5, 1]\\nclass = S'),\n",
       " Text(59.743462897526506, 143.05263157894737, 'entropy = 0.0\\nsamples = 4\\nvalue = [4, 0]\\nclass = S'),\n",
       " Text(64.47561837455831, 143.05263157894737, 'entropy = 0.5\\nsamples = 2\\nvalue = [1, 1]\\nclass = S'),\n",
       " Text(66.8416961130742, 154.49684210526317, 'entropy = 0.0\\nsamples = 7\\nvalue = [7, 0]\\nclass = S'),\n",
       " Text(69.2077738515901, 165.94105263157894, 'entropy = 0.0\\nsamples = 2\\nvalue = [0, 2]\\nclass = e'),\n",
       " Text(207.7134358436396, 200.2736842105263, 'Age <= 0.595\\nentropy = 0.4\\nsamples = 384\\nvalue = [106, 278]\\nclass = e'),\n",
       " Text(114.01074977915195, 188.82947368421054, 'Shape <= -0.227\\nentropy = 0.473\\nsamples = 232\\nvalue = [89, 143]\\nclass = e'),\n",
       " Text(78.67208480565371, 177.38526315789474, 'Age <= -0.053\\nentropy = 0.388\\nsamples = 38\\nvalue = [28, 10]\\nclass = S'),\n",
       " Text(73.93992932862191, 165.94105263157894, 'Age <= -1.486\\nentropy = 0.095\\nsamples = 20\\nvalue = [19, 1]\\nclass = S'),\n",
       " Text(71.573851590106, 154.49684210526317, 'entropy = 0.0\\nsamples = 1\\nvalue = [0, 1]\\nclass = e'),\n",
       " Text(76.30600706713781, 154.49684210526317, 'entropy = 0.0\\nsamples = 19\\nvalue = [19, 0]\\nclass = S'),\n",
       " Text(83.4042402826855, 165.94105263157894, 'Age <= 0.458\\nentropy = 0.5\\nsamples = 18\\nvalue = [9, 9]\\nclass = S'),\n",
       " Text(81.03816254416961, 154.49684210526317, 'Age <= 0.39\\nentropy = 0.459\\nsamples = 14\\nvalue = [5, 9]\\nclass = e'),\n",
       " Text(78.67208480565371, 143.05263157894737, 'Age <= 0.049\\nentropy = 0.496\\nsamples = 11\\nvalue = [5, 6]\\nclass = e'),\n",
       " Text(76.30600706713781, 131.60842105263157, 'entropy = 0.0\\nsamples = 2\\nvalue = [0, 2]\\nclass = e'),\n",
       " Text(81.03816254416961, 131.60842105263157, 'Shape <= -1.032\\nentropy = 0.494\\nsamples = 9\\nvalue = [5, 4]\\nclass = S'),\n",
       " Text(78.67208480565371, 120.16421052631578, 'entropy = 0.0\\nsamples = 2\\nvalue = [0, 2]\\nclass = e'),\n",
       " Text(83.4042402826855, 120.16421052631578, 'Age <= 0.288\\nentropy = 0.408\\nsamples = 7\\nvalue = [5, 2]\\nclass = S'),\n",
       " Text(81.03816254416961, 108.72, 'entropy = 0.0\\nsamples = 4\\nvalue = [4, 0]\\nclass = S'),\n",
       " Text(85.77031802120142, 108.72, 'Margin <= 0.438\\nentropy = 0.444\\nsamples = 3\\nvalue = [1, 2]\\nclass = e'),\n",
       " Text(83.4042402826855, 97.27578947368421, 'entropy = 0.0\\nsamples = 1\\nvalue = [1, 0]\\nclass = S'),\n",
       " Text(88.13639575971732, 97.27578947368421, 'entropy = 0.0\\nsamples = 2\\nvalue = [0, 2]\\nclass = e'),\n",
       " Text(83.4042402826855, 143.05263157894737, 'entropy = 0.0\\nsamples = 3\\nvalue = [0, 3]\\nclass = e'),\n",
       " Text(85.77031802120142, 154.49684210526317, 'entropy = 0.0\\nsamples = 4\\nvalue = [4, 0]\\nclass = S'),\n",
       " Text(149.34941475265018, 177.38526315789474, 'Age <= -1.417\\nentropy = 0.431\\nsamples = 194\\nvalue = [61, 133]\\nclass = e'),\n",
       " Text(133.42460247349823, 165.94105263157894, 'Age <= -1.758\\nentropy = 0.278\\nsamples = 6\\nvalue = [5, 1]\\nclass = S'),\n",
       " Text(131.05852473498234, 154.49684210526317, 'entropy = 0.0\\nsamples = 1\\nvalue = [0, 1]\\nclass = e'),\n",
       " Text(135.79068021201414, 154.49684210526317, 'entropy = 0.0\\nsamples = 5\\nvalue = [5, 0]\\nclass = S'),\n",
       " Text(165.27422703180213, 165.94105263157894, 'Age <= -0.156\\nentropy = 0.418\\nsamples = 188\\nvalue = [56, 132]\\nclass = e'),\n",
       " Text(140.52283568904593, 154.49684210526317, 'Age <= -0.224\\nentropy = 0.461\\nsamples = 86\\nvalue = [31, 55]\\nclass = e'),\n",
       " Text(123.8493816254417, 143.05263157894737, 'Shape <= 0.578\\nentropy = 0.419\\nsamples = 77\\nvalue = [23, 54]\\nclass = e'),\n",
       " Text(97.60070671378092, 131.60842105263157, 'Margin <= -0.2\\nentropy = 0.5\\nsamples = 12\\nvalue = [6, 6]\\nclass = S'),\n",
       " Text(95.23462897526503, 120.16421052631578, 'entropy = 0.0\\nsamples = 2\\nvalue = [0, 2]\\nclass = e'),\n",
       " Text(99.96678445229682, 120.16421052631578, 'Age <= -0.599\\nentropy = 0.48\\nsamples = 10\\nvalue = [6, 4]\\nclass = S'),\n",
       " Text(95.23462897526503, 108.72, 'Age <= -1.042\\nentropy = 0.48\\nsamples = 5\\nvalue = [2, 3]\\nclass = e'),\n",
       " Text(92.86855123674911, 97.27578947368421, 'entropy = 0.0\\nsamples = 1\\nvalue = [1, 0]\\nclass = S'),\n",
       " Text(97.60070671378092, 97.27578947368421, 'Density <= -1.185\\nentropy = 0.375\\nsamples = 4\\nvalue = [1, 3]\\nclass = e'),\n",
       " Text(95.23462897526503, 85.83157894736843, 'Margin <= 0.438\\nentropy = 0.5\\nsamples = 2\\nvalue = [1, 1]\\nclass = S'),\n",
       " Text(92.86855123674911, 74.38736842105263, 'entropy = 0.0\\nsamples = 1\\nvalue = [0, 1]\\nclass = e'),\n",
       " Text(97.60070671378092, 74.38736842105263, 'entropy = 0.0\\nsamples = 1\\nvalue = [1, 0]\\nclass = S'),\n",
       " Text(99.96678445229682, 85.83157894736843, 'entropy = 0.0\\nsamples = 2\\nvalue = [0, 2]\\nclass = e'),\n",
       " Text(104.69893992932862, 108.72, 'Margin <= 1.077\\nentropy = 0.32\\nsamples = 5\\nvalue = [4, 1]\\nclass = S'),\n",
       " Text(102.33286219081272, 97.27578947368421, 'entropy = 0.0\\nsamples = 4\\nvalue = [4, 0]\\nclass = S'),\n",
       " Text(107.06501766784453, 97.27578947368421, 'entropy = 0.0\\nsamples = 1\\nvalue = [0, 1]\\nclass = e'),\n",
       " Text(150.09805653710248, 131.60842105263157, 'Age <= -0.36\\nentropy = 0.386\\nsamples = 65\\nvalue = [17, 48]\\nclass = e'),\n",
       " Text(133.38763250883392, 120.16421052631578, 'Age <= -0.769\\nentropy = 0.42\\nsamples = 50\\nvalue = [15, 35]\\nclass = e'),\n",
       " Text(114.16325088339222, 108.72, 'Age <= -1.213\\nentropy = 0.266\\nsamples = 19\\nvalue = [3, 16]\\nclass = e'),\n",
       " Text(111.79717314487633, 97.27578947368421, 'entropy = 0.0\\nsamples = 3\\nvalue = [0, 3]\\nclass = e'),\n",
       " Text(116.52932862190814, 97.27578947368421, 'Age <= -1.11\\nentropy = 0.305\\nsamples = 16\\nvalue = [3, 13]\\nclass = e'),\n",
       " Text(111.79717314487633, 85.83157894736843, 'Margin <= 0.438\\nentropy = 0.5\\nsamples = 2\\nvalue = [1, 1]\\nclass = S'),\n",
       " Text(109.43109540636043, 74.38736842105263, 'entropy = 0.0\\nsamples = 1\\nvalue = [1, 0]\\nclass = S'),\n",
       " Text(114.16325088339222, 74.38736842105263, 'entropy = 0.0\\nsamples = 1\\nvalue = [0, 1]\\nclass = e'),\n",
       " Text(121.26148409893993, 85.83157894736843, 'Age <= -0.974\\nentropy = 0.245\\nsamples = 14\\nvalue = [2, 12]\\nclass = e'),\n",
       " Text(118.89540636042403, 74.38736842105263, 'entropy = 0.0\\nsamples = 4\\nvalue = [0, 4]\\nclass = e'),\n",
       " Text(123.62756183745583, 74.38736842105263, 'Age <= -0.906\\nentropy = 0.32\\nsamples = 10\\nvalue = [2, 8]\\nclass = e'),\n",
       " Text(118.89540636042403, 62.943157894736856, 'Margin <= 1.077\\nentropy = 0.444\\nsamples = 3\\nvalue = [1, 2]\\nclass = e'),\n",
       " Text(116.52932862190814, 51.49894736842106, 'entropy = 0.0\\nsamples = 2\\nvalue = [0, 2]\\nclass = e'),\n",
       " Text(121.26148409893993, 51.49894736842106, 'entropy = 0.0\\nsamples = 1\\nvalue = [1, 0]\\nclass = S'),\n",
       " Text(128.35971731448763, 62.943157894736856, 'Margin <= 1.077\\nentropy = 0.245\\nsamples = 7\\nvalue = [1, 6]\\nclass = e'),\n",
       " Text(125.99363957597173, 51.49894736842106, 'Density <= -1.185\\nentropy = 0.444\\nsamples = 3\\nvalue = [1, 2]\\nclass = e'),\n",
       " Text(123.62756183745583, 40.05473684210526, 'entropy = 0.0\\nsamples = 1\\nvalue = [0, 1]\\nclass = e'),\n",
       " Text(128.35971731448763, 40.05473684210526, 'Age <= -0.838\\nentropy = 0.5\\nsamples = 2\\nvalue = [1, 1]\\nclass = S'),\n",
       " Text(125.99363957597173, 28.610526315789485, 'entropy = 0.0\\nsamples = 1\\nvalue = [0, 1]\\nclass = e'),\n",
       " Text(130.72579505300354, 28.610526315789485, 'entropy = 0.0\\nsamples = 1\\nvalue = [1, 0]\\nclass = S'),\n",
       " Text(130.72579505300354, 51.49894736842106, 'entropy = 0.0\\nsamples = 4\\nvalue = [0, 4]\\nclass = e'),\n",
       " Text(152.61201413427563, 108.72, 'Density <= -1.185\\nentropy = 0.475\\nsamples = 31\\nvalue = [12, 19]\\nclass = e'),\n",
       " Text(150.2459363957597, 97.27578947368421, 'entropy = 0.0\\nsamples = 1\\nvalue = [1, 0]\\nclass = S'),\n",
       " Text(154.9780918727915, 97.27578947368421, 'Age <= -0.633\\nentropy = 0.464\\nsamples = 30\\nvalue = [11, 19]\\nclass = e'),\n",
       " Text(144.92226148409895, 85.83157894736843, 'Margin <= 1.077\\nentropy = 0.346\\nsamples = 9\\nvalue = [2, 7]\\nclass = e'),\n",
       " Text(142.55618374558304, 74.38736842105263, 'Age <= -0.701\\nentropy = 0.408\\nsamples = 7\\nvalue = [2, 5]\\nclass = e'),\n",
       " Text(137.82402826855125, 62.943157894736856, 'Margin <= 0.119\\nentropy = 0.5\\nsamples = 2\\nvalue = [1, 1]\\nclass = S'),\n",
       " Text(135.45795053003533, 51.49894736842106, 'entropy = 0.0\\nsamples = 1\\nvalue = [0, 1]\\nclass = e'),\n",
       " Text(140.19010600706713, 51.49894736842106, 'entropy = 0.0\\nsamples = 1\\nvalue = [1, 0]\\nclass = S'),\n",
       " Text(147.28833922261484, 62.943157894736856, 'Margin <= 0.438\\nentropy = 0.32\\nsamples = 5\\nvalue = [1, 4]\\nclass = e'),\n",
       " Text(144.92226148409895, 51.49894736842106, 'entropy = 0.444\\nsamples = 3\\nvalue = [1, 2]\\nclass = e'),\n",
       " Text(149.65441696113075, 51.49894736842106, 'entropy = 0.0\\nsamples = 2\\nvalue = [0, 2]\\nclass = e'),\n",
       " Text(147.28833922261484, 74.38736842105263, 'entropy = 0.0\\nsamples = 2\\nvalue = [0, 2]\\nclass = e'),\n",
       " Text(165.0339222614841, 85.83157894736843, 'Margin <= 1.077\\nentropy = 0.49\\nsamples = 21\\nvalue = [9, 12]\\nclass = e'),\n",
       " Text(159.11872791519434, 74.38736842105263, 'Age <= -0.428\\nentropy = 0.497\\nsamples = 13\\nvalue = [6, 7]\\nclass = e'),\n",
       " Text(156.75265017667846, 62.943157894736856, 'Age <= -0.497\\nentropy = 0.486\\nsamples = 12\\nvalue = [5, 7]\\nclass = e'),\n",
       " Text(154.38657243816255, 51.49894736842106, 'entropy = 0.375\\nsamples = 4\\nvalue = [1, 3]\\nclass = e'),\n",
       " Text(159.11872791519434, 51.49894736842106, 'entropy = 0.5\\nsamples = 8\\nvalue = [4, 4]\\nclass = S'),\n",
       " Text(161.48480565371025, 62.943157894736856, 'entropy = 0.0\\nsamples = 1\\nvalue = [1, 0]\\nclass = S'),\n",
       " Text(170.94911660777385, 74.38736842105263, 'Age <= -0.497\\nentropy = 0.469\\nsamples = 8\\nvalue = [3, 5]\\nclass = e'),\n",
       " Text(166.21696113074205, 62.943157894736856, 'Age <= -0.565\\nentropy = 0.444\\nsamples = 3\\nvalue = [2, 1]\\nclass = S'),\n",
       " Text(163.85088339222614, 51.49894736842106, 'entropy = 0.5\\nsamples = 2\\nvalue = [1, 1]\\nclass = S'),\n",
       " Text(168.58303886925796, 51.49894736842106, 'entropy = 0.0\\nsamples = 1\\nvalue = [1, 0]\\nclass = S'),\n",
       " Text(175.68127208480564, 62.943157894736856, 'Age <= -0.428\\nentropy = 0.32\\nsamples = 5\\nvalue = [1, 4]\\nclass = e'),\n",
       " Text(173.31519434628976, 51.49894736842106, 'entropy = 0.0\\nsamples = 1\\nvalue = [0, 1]\\nclass = e'),\n",
       " Text(178.04734982332155, 51.49894736842106, 'entropy = 0.375\\nsamples = 4\\nvalue = [1, 3]\\nclass = e'),\n",
       " Text(166.808480565371, 120.16421052631578, 'Margin <= 0.438\\nentropy = 0.231\\nsamples = 15\\nvalue = [2, 13]\\nclass = e'),\n",
       " Text(162.07632508833922, 108.72, 'Age <= -0.292\\nentropy = 0.444\\nsamples = 3\\nvalue = [1, 2]\\nclass = e'),\n",
       " Text(159.71024734982333, 97.27578947368421, 'entropy = 0.0\\nsamples = 1\\nvalue = [1, 0]\\nclass = S'),\n",
       " Text(164.44240282685513, 97.27578947368421, 'entropy = 0.0\\nsamples = 2\\nvalue = [0, 2]\\nclass = e'),\n",
       " Text(171.54063604240284, 108.72, 'Margin <= 1.077\\nentropy = 0.153\\nsamples = 12\\nvalue = [1, 11]\\nclass = e'),\n",
       " Text(169.17455830388693, 97.27578947368421, 'entropy = 0.0\\nsamples = 8\\nvalue = [0, 8]\\nclass = e'),\n",
       " Text(173.90671378091872, 97.27578947368421, 'Age <= -0.292\\nentropy = 0.375\\nsamples = 4\\nvalue = [1, 3]\\nclass = e'),\n",
       " Text(171.54063604240284, 85.83157894736843, 'entropy = 0.0\\nsamples = 1\\nvalue = [0, 1]\\nclass = e'),\n",
       " Text(176.27279151943463, 85.83157894736843, 'entropy = 0.444\\nsamples = 3\\nvalue = [1, 2]\\nclass = e'),\n",
       " Text(157.1962897526502, 143.05263157894737, 'Margin <= 1.077\\nentropy = 0.198\\nsamples = 9\\nvalue = [8, 1]\\nclass = S'),\n",
       " Text(154.83021201413428, 131.60842105263157, 'entropy = 0.0\\nsamples = 6\\nvalue = [6, 0]\\nclass = S'),\n",
       " Text(159.56236749116607, 131.60842105263157, 'entropy = 0.444\\nsamples = 3\\nvalue = [2, 1]\\nclass = S'),\n",
       " Text(190.02561837455832, 154.49684210526317, 'Age <= -0.087\\nentropy = 0.37\\nsamples = 102\\nvalue = [25, 77]\\nclass = e'),\n",
       " Text(176.27279151943463, 143.05263157894737, 'Margin <= 0.438\\nentropy = 0.219\\nsamples = 8\\nvalue = [1, 7]\\nclass = e'),\n",
       " Text(173.90671378091872, 131.60842105263157, 'entropy = 0.0\\nsamples = 1\\nvalue = [1, 0]\\nclass = S'),\n",
       " Text(178.63886925795055, 131.60842105263157, 'entropy = 0.0\\nsamples = 7\\nvalue = [0, 7]\\nclass = e'),\n",
       " Text(203.77844522968198, 143.05263157894737, 'Age <= 0.049\\nentropy = 0.38\\nsamples = 94\\nvalue = [24, 70]\\nclass = e'),\n",
       " Text(183.37102473498234, 131.60842105263157, 'Density <= -1.185\\nentropy = 0.444\\nsamples = 18\\nvalue = [6, 12]\\nclass = e'),\n",
       " Text(181.00494699646643, 120.16421052631578, 'entropy = 0.0\\nsamples = 1\\nvalue = [1, 0]\\nclass = S'),\n",
       " Text(185.73710247349823, 120.16421052631578, 'Margin <= 0.438\\nentropy = 0.415\\nsamples = 17\\nvalue = [5, 12]\\nclass = e'),\n",
       " Text(183.37102473498234, 108.72, 'entropy = 0.0\\nsamples = 3\\nvalue = [0, 3]\\nclass = e'),\n",
       " Text(188.10318021201414, 108.72, 'Age <= -0.019\\nentropy = 0.459\\nsamples = 14\\nvalue = [5, 9]\\nclass = e'),\n",
       " Text(183.37102473498234, 97.27578947368421, 'Shape <= 0.578\\nentropy = 0.397\\nsamples = 11\\nvalue = [3, 8]\\nclass = e'),\n",
       " Text(181.00494699646643, 85.83157894736843, 'entropy = 0.0\\nsamples = 2\\nvalue = [0, 2]\\nclass = e'),\n",
       " Text(185.73710247349823, 85.83157894736843, 'Density <= 1.666\\nentropy = 0.444\\nsamples = 9\\nvalue = [3, 6]\\nclass = e'),\n",
       " Text(183.37102473498234, 74.38736842105263, 'Margin <= 1.077\\nentropy = 0.469\\nsamples = 8\\nvalue = [3, 5]\\nclass = e'),\n",
       " Text(181.00494699646643, 62.943157894736856, 'entropy = 0.48\\nsamples = 5\\nvalue = [2, 3]\\nclass = e'),\n",
       " Text(185.73710247349823, 62.943157894736856, 'entropy = 0.444\\nsamples = 3\\nvalue = [1, 2]\\nclass = e'),\n",
       " Text(188.10318021201414, 74.38736842105263, 'entropy = 0.0\\nsamples = 1\\nvalue = [0, 1]\\nclass = e'),\n",
       " Text(192.83533568904593, 97.27578947368421, 'Margin <= 1.077\\nentropy = 0.444\\nsamples = 3\\nvalue = [2, 1]\\nclass = S'),\n",
       " Text(190.46925795053005, 85.83157894736843, 'entropy = 0.0\\nsamples = 2\\nvalue = [2, 0]\\nclass = S'),\n",
       " Text(195.20141342756185, 85.83157894736843, 'entropy = 0.0\\nsamples = 1\\nvalue = [0, 1]\\nclass = e'),\n",
       " Text(224.1858657243816, 131.60842105263157, 'Margin <= -0.2\\nentropy = 0.361\\nsamples = 76\\nvalue = [18, 58]\\nclass = e'),\n",
       " Text(221.81978798586573, 120.16421052631578, 'entropy = 0.0\\nsamples = 1\\nvalue = [1, 0]\\nclass = S'),\n",
       " Text(226.55194346289753, 120.16421052631578, 'Age <= 0.254\\nentropy = 0.351\\nsamples = 75\\nvalue = [17, 58]\\nclass = e'),\n",
       " Text(211.17243816254418, 108.72, 'Margin <= 0.438\\nentropy = 0.391\\nsamples = 30\\nvalue = [8, 22]\\nclass = e'),\n",
       " Text(202.29964664310955, 97.27578947368421, 'Density <= -1.185\\nentropy = 0.49\\nsamples = 7\\nvalue = [3, 4]\\nclass = e'),\n",
       " Text(199.93356890459364, 85.83157894736843, 'entropy = 0.0\\nsamples = 1\\nvalue = [1, 0]\\nclass = S'),\n",
       " Text(204.66572438162544, 85.83157894736843, 'Shape <= 0.578\\nentropy = 0.444\\nsamples = 6\\nvalue = [2, 4]\\nclass = e'),\n",
       " Text(202.29964664310955, 74.38736842105263, 'entropy = 0.0\\nsamples = 1\\nvalue = [0, 1]\\nclass = e'),\n",
       " Text(207.03180212014135, 74.38736842105263, 'Age <= 0.185\\nentropy = 0.48\\nsamples = 5\\nvalue = [2, 3]\\nclass = e'),\n",
       " Text(204.66572438162544, 62.943157894736856, 'Age <= 0.117\\nentropy = 0.5\\nsamples = 4\\nvalue = [2, 2]\\nclass = S'),\n",
       " Text(202.29964664310955, 51.49894736842106, 'entropy = 0.444\\nsamples = 3\\nvalue = [1, 2]\\nclass = e'),\n",
       " Text(207.03180212014135, 51.49894736842106, 'entropy = 0.0\\nsamples = 1\\nvalue = [1, 0]\\nclass = S'),\n",
       " Text(209.39787985865723, 62.943157894736856, 'entropy = 0.0\\nsamples = 1\\nvalue = [0, 1]\\nclass = e'),\n",
       " Text(220.0452296819788, 97.27578947368421, 'Shape <= 0.578\\nentropy = 0.34\\nsamples = 23\\nvalue = [5, 18]\\nclass = e'),\n",
       " Text(214.13003533568906, 85.83157894736843, 'Age <= 0.185\\nentropy = 0.5\\nsamples = 2\\nvalue = [1, 1]\\nclass = S'),\n",
       " Text(211.76395759717315, 74.38736842105263, 'entropy = 0.0\\nsamples = 1\\nvalue = [0, 1]\\nclass = e'),\n",
       " Text(216.49611307420494, 74.38736842105263, 'entropy = 0.0\\nsamples = 1\\nvalue = [1, 0]\\nclass = S'),\n",
       " Text(225.96042402826856, 85.83157894736843, 'Margin <= 1.077\\nentropy = 0.308\\nsamples = 21\\nvalue = [4, 17]\\nclass = e'),\n",
       " Text(221.22826855123674, 74.38736842105263, 'Age <= 0.185\\nentropy = 0.231\\nsamples = 15\\nvalue = [2, 13]\\nclass = e'),\n",
       " Text(218.86219081272085, 62.943157894736856, 'Density <= -1.185\\nentropy = 0.298\\nsamples = 11\\nvalue = [2, 9]\\nclass = e'),\n",
       " Text(216.49611307420494, 51.49894736842106, 'entropy = 0.0\\nsamples = 2\\nvalue = [0, 2]\\nclass = e'),\n",
       " Text(221.22826855123674, 51.49894736842106, 'Density <= 1.666\\nentropy = 0.346\\nsamples = 9\\nvalue = [2, 7]\\nclass = e'),\n",
       " Text(218.86219081272085, 40.05473684210526, 'Age <= 0.117\\nentropy = 0.375\\nsamples = 8\\nvalue = [2, 6]\\nclass = e'),\n",
       " Text(216.49611307420494, 28.610526315789485, 'entropy = 0.444\\nsamples = 3\\nvalue = [1, 2]\\nclass = e'),\n",
       " Text(221.22826855123674, 28.610526315789485, 'entropy = 0.32\\nsamples = 5\\nvalue = [1, 4]\\nclass = e'),\n",
       " Text(223.59434628975265, 40.05473684210526, 'entropy = 0.0\\nsamples = 1\\nvalue = [0, 1]\\nclass = e'),\n",
       " Text(223.59434628975265, 62.943157894736856, 'entropy = 0.0\\nsamples = 4\\nvalue = [0, 4]\\nclass = e'),\n",
       " Text(230.69257950530036, 74.38736842105263, 'Age <= 0.185\\nentropy = 0.444\\nsamples = 6\\nvalue = [2, 4]\\nclass = e'),\n",
       " Text(228.32650176678445, 62.943157894736856, 'entropy = 0.444\\nsamples = 3\\nvalue = [1, 2]\\nclass = e'),\n",
       " Text(233.05865724381627, 62.943157894736856, 'entropy = 0.444\\nsamples = 3\\nvalue = [1, 2]\\nclass = e'),\n",
       " Text(241.9314487632509, 108.72, 'Density <= -1.185\\nentropy = 0.32\\nsamples = 45\\nvalue = [9, 36]\\nclass = e'),\n",
       " Text(239.565371024735, 97.27578947368421, 'entropy = 0.0\\nsamples = 2\\nvalue = [0, 2]\\nclass = e'),\n",
       " Text(244.29752650176678, 97.27578947368421, 'Age <= 0.322\\nentropy = 0.331\\nsamples = 43\\nvalue = [9, 34]\\nclass = e'),\n",
       " Text(237.79081272084807, 85.83157894736843, 'Margin <= 0.438\\nentropy = 0.219\\nsamples = 8\\nvalue = [1, 7]\\nclass = e'),\n",
       " Text(235.42473498233215, 74.38736842105263, 'entropy = 0.375\\nsamples = 4\\nvalue = [1, 3]\\nclass = e'),\n",
       " Text(240.15689045936395, 74.38736842105263, 'entropy = 0.0\\nsamples = 4\\nvalue = [0, 4]\\nclass = e'),\n",
       " Text(250.80424028268553, 85.83157894736843, 'Margin <= 0.438\\nentropy = 0.353\\nsamples = 35\\nvalue = [8, 27]\\nclass = e'),\n",
       " Text(244.88904593639577, 74.38736842105263, 'Age <= 0.458\\nentropy = 0.198\\nsamples = 9\\nvalue = [1, 8]\\nclass = e'),\n",
       " Text(242.52296819787986, 62.943157894736856, 'Shape <= 0.578\\nentropy = 0.375\\nsamples = 4\\nvalue = [1, 3]\\nclass = e'),\n",
       " Text(240.15689045936395, 51.49894736842106, 'entropy = 0.5\\nsamples = 2\\nvalue = [1, 1]\\nclass = S'),\n",
       " Text(244.88904593639577, 51.49894736842106, 'entropy = 0.0\\nsamples = 2\\nvalue = [0, 2]\\nclass = e'),\n",
       " Text(247.25512367491166, 62.943157894736856, 'entropy = 0.0\\nsamples = 5\\nvalue = [0, 5]\\nclass = e'),\n",
       " Text(256.71943462897525, 74.38736842105263, 'Age <= 0.526\\nentropy = 0.393\\nsamples = 26\\nvalue = [7, 19]\\nclass = e'),\n",
       " Text(251.98727915194345, 62.943157894736856, 'Margin <= 1.077\\nentropy = 0.346\\nsamples = 18\\nvalue = [4, 14]\\nclass = e'),\n",
       " Text(249.62120141342757, 51.49894736842106, 'Age <= 0.458\\nentropy = 0.426\\nsamples = 13\\nvalue = [4, 9]\\nclass = e'),\n",
       " Text(244.88904593639577, 40.05473684210526, 'Age <= 0.39\\nentropy = 0.48\\nsamples = 5\\nvalue = [2, 3]\\nclass = e'),\n",
       " Text(242.52296819787986, 28.610526315789485, 'Shape <= 0.578\\nentropy = 0.444\\nsamples = 3\\nvalue = [1, 2]\\nclass = e'),\n",
       " Text(240.15689045936395, 17.166315789473686, 'entropy = 0.5\\nsamples = 2\\nvalue = [1, 1]\\nclass = S'),\n",
       " Text(244.88904593639577, 17.166315789473686, 'entropy = 0.0\\nsamples = 1\\nvalue = [0, 1]\\nclass = e'),\n",
       " Text(247.25512367491166, 28.610526315789485, 'entropy = 0.5\\nsamples = 2\\nvalue = [1, 1]\\nclass = S'),\n",
       " Text(254.35335689045937, 40.05473684210526, 'Shape <= 0.578\\nentropy = 0.375\\nsamples = 8\\nvalue = [2, 6]\\nclass = e'),\n",
       " Text(251.98727915194345, 28.610526315789485, 'entropy = 0.0\\nsamples = 1\\nvalue = [0, 1]\\nclass = e'),\n",
       " Text(256.71943462897525, 28.610526315789485, 'entropy = 0.408\\nsamples = 7\\nvalue = [2, 5]\\nclass = e'),\n",
       " Text(254.35335689045937, 51.49894736842106, 'entropy = 0.0\\nsamples = 5\\nvalue = [0, 5]\\nclass = e'),\n",
       " Text(261.4515901060071, 62.943157894736856, 'Margin <= 1.077\\nentropy = 0.469\\nsamples = 8\\nvalue = [3, 5]\\nclass = e'),\n",
       " Text(259.08551236749116, 51.49894736842106, 'entropy = 0.375\\nsamples = 4\\nvalue = [1, 3]\\nclass = e'),\n",
       " Text(263.817667844523, 51.49894736842106, 'entropy = 0.5\\nsamples = 4\\nvalue = [2, 2]\\nclass = S'),\n",
       " Text(301.4161219081272, 188.82947368421054, 'Density <= 1.666\\nentropy = 0.199\\nsamples = 152\\nvalue = [17, 135]\\nclass = e'),\n",
       " Text(287.10874558303885, 177.38526315789474, 'Age <= 1.413\\nentropy = 0.181\\nsamples = 149\\nvalue = [15, 134]\\nclass = e'),\n",
       " Text(284.742667844523, 165.94105263157894, 'Shape <= -0.227\\nentropy = 0.227\\nsamples = 115\\nvalue = [15, 100]\\nclass = e'),\n",
       " Text(258.49399293286217, 154.49684210526317, 'Margin <= 0.438\\nentropy = 0.408\\nsamples = 14\\nvalue = [4, 10]\\nclass = e'),\n",
       " Text(256.1279151943463, 143.05263157894737, 'entropy = 0.0\\nsamples = 2\\nvalue = [2, 0]\\nclass = S'),\n",
       " Text(260.8600706713781, 143.05263157894737, 'Age <= 1.072\\nentropy = 0.278\\nsamples = 12\\nvalue = [2, 10]\\nclass = e'),\n",
       " Text(256.1279151943463, 131.60842105263157, 'Shape <= -1.032\\nentropy = 0.198\\nsamples = 9\\nvalue = [1, 8]\\nclass = e'),\n",
       " Text(253.7618374558304, 120.16421052631578, 'Age <= 0.833\\nentropy = 0.375\\nsamples = 4\\nvalue = [1, 3]\\nclass = e'),\n",
       " Text(251.3957597173145, 108.72, 'Age <= 0.731\\nentropy = 0.5\\nsamples = 2\\nvalue = [1, 1]\\nclass = S'),\n",
       " Text(249.02968197879858, 97.27578947368421, 'entropy = 0.0\\nsamples = 1\\nvalue = [0, 1]\\nclass = e'),\n",
       " Text(253.7618374558304, 97.27578947368421, 'entropy = 0.0\\nsamples = 1\\nvalue = [1, 0]\\nclass = S'),\n",
       " Text(256.1279151943463, 108.72, 'entropy = 0.0\\nsamples = 2\\nvalue = [0, 2]\\nclass = e'),\n",
       " Text(258.49399293286217, 120.16421052631578, 'entropy = 0.0\\nsamples = 5\\nvalue = [0, 5]\\nclass = e'),\n",
       " Text(265.5922261484099, 131.60842105263157, 'Age <= 1.242\\nentropy = 0.444\\nsamples = 3\\nvalue = [1, 2]\\nclass = e'),\n",
       " Text(263.226148409894, 120.16421052631578, 'entropy = 0.0\\nsamples = 1\\nvalue = [1, 0]\\nclass = S'),\n",
       " Text(267.9583038869258, 120.16421052631578, 'entropy = 0.0\\nsamples = 2\\nvalue = [0, 2]\\nclass = e'),\n",
       " Text(310.99134275618377, 154.49684210526317, 'Age <= 1.345\\nentropy = 0.194\\nsamples = 101\\nvalue = [11, 90]\\nclass = e'),\n",
       " Text(296.6469964664311, 143.05263157894737, 'Age <= 0.799\\nentropy = 0.178\\nsamples = 91\\nvalue = [9, 82]\\nclass = e'),\n",
       " Text(275.0565371024735, 131.60842105263157, 'Shape <= 0.578\\nentropy = 0.245\\nsamples = 42\\nvalue = [6, 36]\\nclass = e'),\n",
       " Text(272.6904593639576, 120.16421052631578, 'entropy = 0.0\\nsamples = 6\\nvalue = [0, 6]\\nclass = e'),\n",
       " Text(277.4226148409894, 120.16421052631578, 'Density <= -2.611\\nentropy = 0.278\\nsamples = 36\\nvalue = [6, 30]\\nclass = e'),\n",
       " Text(275.0565371024735, 108.72, 'entropy = 0.0\\nsamples = 1\\nvalue = [0, 1]\\nclass = e'),\n",
       " Text(279.7886925795053, 108.72, 'Margin <= -0.2\\nentropy = 0.284\\nsamples = 35\\nvalue = [6, 29]\\nclass = e'),\n",
       " Text(277.4226148409894, 97.27578947368421, 'entropy = 0.0\\nsamples = 1\\nvalue = [0, 1]\\nclass = e'),\n",
       " Text(282.1547703180212, 97.27578947368421, 'Age <= 0.663\\nentropy = 0.291\\nsamples = 34\\nvalue = [6, 28]\\nclass = e'),\n",
       " Text(275.6480565371025, 85.83157894736843, 'Margin <= 1.077\\nentropy = 0.219\\nsamples = 8\\nvalue = [1, 7]\\nclass = e'),\n",
       " Text(273.2819787985866, 74.38736842105263, 'Margin <= 0.438\\nentropy = 0.32\\nsamples = 5\\nvalue = [1, 4]\\nclass = e'),\n",
       " Text(270.91590106007067, 62.943157894736856, 'entropy = 0.0\\nsamples = 1\\nvalue = [0, 1]\\nclass = e'),\n",
       " Text(275.6480565371025, 62.943157894736856, 'entropy = 0.375\\nsamples = 4\\nvalue = [1, 3]\\nclass = e'),\n",
       " Text(278.0141342756184, 74.38736842105263, 'entropy = 0.0\\nsamples = 3\\nvalue = [0, 3]\\nclass = e'),\n",
       " Text(288.6614840989399, 85.83157894736843, 'Margin <= 0.438\\nentropy = 0.311\\nsamples = 26\\nvalue = [5, 21]\\nclass = e'),\n",
       " Text(282.74628975265017, 74.38736842105263, 'Age <= 0.731\\nentropy = 0.375\\nsamples = 4\\nvalue = [1, 3]\\nclass = e'),\n",
       " Text(280.38021201413426, 62.943157894736856, 'entropy = 0.5\\nsamples = 2\\nvalue = [1, 1]\\nclass = S'),\n",
       " Text(285.1123674911661, 62.943157894736856, 'entropy = 0.0\\nsamples = 2\\nvalue = [0, 2]\\nclass = e'),\n",
       " Text(294.5766784452297, 74.38736842105263, 'Age <= 0.731\\nentropy = 0.298\\nsamples = 22\\nvalue = [4, 18]\\nclass = e'),\n",
       " Text(289.8445229681979, 62.943157894736856, 'Margin <= 1.077\\nentropy = 0.278\\nsamples = 12\\nvalue = [2, 10]\\nclass = e'),\n",
       " Text(287.478445229682, 51.49894736842106, 'entropy = 0.245\\nsamples = 7\\nvalue = [1, 6]\\nclass = e'),\n",
       " Text(292.21060070671376, 51.49894736842106, 'entropy = 0.32\\nsamples = 5\\nvalue = [1, 4]\\nclass = e'),\n",
       " Text(299.3088339222615, 62.943157894736856, 'Margin <= 1.077\\nentropy = 0.32\\nsamples = 10\\nvalue = [2, 8]\\nclass = e'),\n",
       " Text(296.9427561837456, 51.49894736842106, 'entropy = 0.32\\nsamples = 5\\nvalue = [1, 4]\\nclass = e'),\n",
       " Text(301.6749116607774, 51.49894736842106, 'entropy = 0.32\\nsamples = 5\\nvalue = [1, 4]\\nclass = e'),\n",
       " Text(318.2374558303887, 131.60842105263157, 'Age <= 1.208\\nentropy = 0.115\\nsamples = 49\\nvalue = [3, 46]\\nclass = e'),\n",
       " Text(315.87137809187277, 120.16421052631578, 'Age <= 1.14\\nentropy = 0.139\\nsamples = 40\\nvalue = [3, 37]\\nclass = e'),\n",
       " Text(311.139222614841, 108.72, 'Margin <= 0.438\\nentropy = 0.102\\nsamples = 37\\nvalue = [2, 35]\\nclass = e'),\n",
       " Text(308.7731448763251, 97.27578947368421, 'entropy = 0.0\\nsamples = 11\\nvalue = [0, 11]\\nclass = e'),\n",
       " Text(313.5053003533569, 97.27578947368421, 'Age <= 1.072\\nentropy = 0.142\\nsamples = 26\\nvalue = [2, 24]\\nclass = e'),\n",
       " Text(311.139222614841, 85.83157894736843, 'Margin <= 1.077\\nentropy = 0.165\\nsamples = 22\\nvalue = [2, 20]\\nclass = e'),\n",
       " Text(306.4070671378092, 74.38736842105263, 'Age <= 0.867\\nentropy = 0.133\\nsamples = 14\\nvalue = [1, 13]\\nclass = e'),\n",
       " Text(304.04098939929327, 62.943157894736856, 'entropy = 0.278\\nsamples = 6\\nvalue = [1, 5]\\nclass = e'),\n",
       " Text(308.7731448763251, 62.943157894736856, 'entropy = 0.0\\nsamples = 8\\nvalue = [0, 8]\\nclass = e'),\n",
       " Text(315.87137809187277, 74.38736842105263, 'Age <= 0.97\\nentropy = 0.219\\nsamples = 8\\nvalue = [1, 7]\\nclass = e'),\n",
       " Text(313.5053003533569, 62.943157894736856, 'entropy = 0.0\\nsamples = 4\\nvalue = [0, 4]\\nclass = e'),\n",
       " Text(318.2374558303887, 62.943157894736856, 'Density <= -1.185\\nentropy = 0.375\\nsamples = 4\\nvalue = [1, 3]\\nclass = e'),\n",
       " Text(315.87137809187277, 51.49894736842106, 'entropy = 0.0\\nsamples = 1\\nvalue = [0, 1]\\nclass = e'),\n",
       " Text(320.6035335689046, 51.49894736842106, 'entropy = 0.444\\nsamples = 3\\nvalue = [1, 2]\\nclass = e'),\n",
       " Text(315.87137809187277, 85.83157894736843, 'entropy = 0.0\\nsamples = 4\\nvalue = [0, 4]\\nclass = e'),\n",
       " Text(320.6035335689046, 108.72, 'Margin <= 0.438\\nentropy = 0.444\\nsamples = 3\\nvalue = [1, 2]\\nclass = e'),\n",
       " Text(318.2374558303887, 97.27578947368421, 'entropy = 0.0\\nsamples = 1\\nvalue = [1, 0]\\nclass = S'),\n",
       " Text(322.9696113074205, 97.27578947368421, 'entropy = 0.0\\nsamples = 2\\nvalue = [0, 2]\\nclass = e'),\n",
       " Text(320.6035335689046, 120.16421052631578, 'entropy = 0.0\\nsamples = 9\\nvalue = [0, 9]\\nclass = e'),\n",
       " Text(325.3356890459364, 143.05263157894737, 'Shape <= 0.578\\nentropy = 0.32\\nsamples = 10\\nvalue = [2, 8]\\nclass = e'),\n",
       " Text(322.9696113074205, 131.60842105263157, 'entropy = 0.0\\nsamples = 1\\nvalue = [1, 0]\\nclass = S'),\n",
       " Text(327.7017667844523, 131.60842105263157, 'Margin <= 0.438\\nentropy = 0.198\\nsamples = 9\\nvalue = [1, 8]\\nclass = e'),\n",
       " Text(325.3356890459364, 120.16421052631578, 'entropy = 0.0\\nsamples = 2\\nvalue = [0, 2]\\nclass = e'),\n",
       " Text(330.0678445229682, 120.16421052631578, 'Margin <= 1.077\\nentropy = 0.245\\nsamples = 7\\nvalue = [1, 6]\\nclass = e'),\n",
       " Text(327.7017667844523, 108.72, 'entropy = 0.32\\nsamples = 5\\nvalue = [1, 4]\\nclass = e'),\n",
       " Text(332.4339222614841, 108.72, 'entropy = 0.0\\nsamples = 2\\nvalue = [0, 2]\\nclass = e'),\n",
       " Text(289.47482332155477, 165.94105263157894, 'entropy = 0.0\\nsamples = 34\\nvalue = [0, 34]\\nclass = e'),\n",
       " Text(315.72349823321554, 177.38526315789474, 'Margin <= 0.438\\nentropy = 0.444\\nsamples = 3\\nvalue = [2, 1]\\nclass = S'),\n",
       " Text(313.3574204946996, 165.94105263157894, 'entropy = 0.0\\nsamples = 1\\nvalue = [1, 0]\\nclass = S'),\n",
       " Text(318.08957597173145, 165.94105263157894, 'Age <= 0.867\\nentropy = 0.5\\nsamples = 2\\nvalue = [1, 1]\\nclass = S'),\n",
       " Text(315.72349823321554, 154.49684210526317, 'entropy = 0.0\\nsamples = 1\\nvalue = [1, 0]\\nclass = S'),\n",
       " Text(320.45565371024736, 154.49684210526317, 'entropy = 0.0\\nsamples = 1\\nvalue = [0, 1]\\nclass = e')]"
      ]
     },
     "execution_count": 68,
     "metadata": {},
     "output_type": "execute_result"
    },
    {
     "data": {
      "image/png": "[encoded data removed]",
      "text/plain": [
       "<Figure size 432x288 with 1 Axes>"
      ]
     },
     "metadata": {
      "needs_background": "light"
     },
     "output_type": "display_data"
    }
   ],
   "source": [
    "tree.plot_tree(clf, filled=True, class_names='Severity', feature_names=list_names )"
   ]
  },
  {
   "cell_type": "code",
   "execution_count": 69,
   "metadata": {},
   "outputs": [],
   "source": [
    "fig.savefig('Final_tree.png')"
   ]
  },
  {
   "cell_type": "code",
   "execution_count": null,
   "metadata": {},
   "outputs": [],
   "source": [
    "from IPython.display import Image  \n",
    "from sklearn.externals.six import StringIO  \n",
    "import pydotplus\n",
    "\n",
    "dot_data = StringIO()  \n",
    "tree.export_graphviz(clf, out_file=dot_data,  \n",
    "                         feature_names=features)  \n",
    "graph = pydotplus.graph_from_dot_data(dot_data.getvalue())  \n",
    "Image(graph.create_png())  "
   ]
  },
  {
   "cell_type": "code",
   "execution_count": null,
   "metadata": {},
   "outputs": [],
   "source": []
  },
  {
   "cell_type": "code",
   "execution_count": null,
   "metadata": {},
   "outputs": [],
   "source": []
  },
  {
   "cell_type": "markdown",
   "metadata": {},
   "source": [
    "Measure the accuracy of the resulting decision tree model using your test data."
   ]
  },
  {
   "cell_type": "code",
   "execution_count": null,
   "metadata": {},
   "outputs": [],
   "source": []
  },
  {
   "cell_type": "markdown",
   "metadata": {},
   "source": [
    "Now instead of a single train/test split, use K-Fold cross validation to get a better measure of your model's accuracy (K=10). Hint: use model_selection.cross_val_score"
   ]
  },
  {
   "cell_type": "code",
   "execution_count": null,
   "metadata": {},
   "outputs": [],
   "source": []
  },
  {
   "cell_type": "markdown",
   "metadata": {},
   "source": [
    "Now try a RandomForestClassifier instead. Does it perform better?"
   ]
  },
  {
   "cell_type": "code",
   "execution_count": null,
   "metadata": {},
   "outputs": [],
   "source": []
  },
  {
   "cell_type": "markdown",
   "metadata": {},
   "source": [
    "## SVM\n",
    "\n",
    "Next try using svm.SVC with a linear kernel. How does it compare to the decision tree?"
   ]
  },
  {
   "cell_type": "code",
   "execution_count": null,
   "metadata": {},
   "outputs": [],
   "source": []
  },
  {
   "cell_type": "code",
   "execution_count": null,
   "metadata": {},
   "outputs": [],
   "source": []
  },
  {
   "cell_type": "markdown",
   "metadata": {},
   "source": [
    "## KNN\n",
    "How about K-Nearest-Neighbors? Hint: use neighbors.KNeighborsClassifier - it's a lot easier than implementing KNN from scratch like we did earlier in the course. Start with a K of 10. K is an example of a hyperparameter - a parameter on the model itself which may need to be tuned for best results on your particular data set."
   ]
  },
  {
   "cell_type": "code",
   "execution_count": null,
   "metadata": {},
   "outputs": [],
   "source": []
  },
  {
   "cell_type": "markdown",
   "metadata": {},
   "source": [
    "Choosing K is tricky, so we can't discard KNN until we've tried different values of K. Write a for loop to run KNN with K values ranging from 1 to 50 and see if K makes a substantial difference. Make a note of the best performance you could get out of KNN."
   ]
  },
  {
   "cell_type": "code",
   "execution_count": null,
   "metadata": {},
   "outputs": [],
   "source": []
  },
  {
   "cell_type": "markdown",
   "metadata": {},
   "source": [
    "## Naive Bayes\n",
    "\n",
    "Now try naive_bayes.MultinomialNB. How does its accuracy stack up? Hint: you'll need to use MinMaxScaler to get the features in the range MultinomialNB requires."
   ]
  },
  {
   "cell_type": "code",
   "execution_count": null,
   "metadata": {},
   "outputs": [],
   "source": []
  },
  {
   "cell_type": "markdown",
   "metadata": {},
   "source": [
    "## Revisiting SVM\n",
    "\n",
    "svm.SVC may perform differently with different kernels. The choice of kernel is an example of a \"hyperparamter.\" Try the rbf, sigmoid, and poly kernels and see what the best-performing kernel is. Do we have a new winner?"
   ]
  },
  {
   "cell_type": "code",
   "execution_count": null,
   "metadata": {},
   "outputs": [],
   "source": []
  },
  {
   "cell_type": "code",
   "execution_count": null,
   "metadata": {},
   "outputs": [],
   "source": []
  },
  {
   "cell_type": "code",
   "execution_count": null,
   "metadata": {},
   "outputs": [],
   "source": []
  },
  {
   "cell_type": "markdown",
   "metadata": {},
   "source": [
    "## Logistic Regression\n",
    "\n",
    "We've tried all these fancy techniques, but fundamentally this is just a binary classification problem. Try Logisitic Regression, which is a simple way to tackling this sort of thing."
   ]
  },
  {
   "cell_type": "code",
   "execution_count": null,
   "metadata": {
    "collapsed": true
   },
   "outputs": [],
   "source": []
  },
  {
   "cell_type": "code",
   "execution_count": null,
   "metadata": {
    "collapsed": true
   },
   "outputs": [],
   "source": []
  },
  {
   "cell_type": "code",
   "execution_count": null,
   "metadata": {
    "collapsed": true
   },
   "outputs": [],
   "source": []
  },
  {
   "cell_type": "markdown",
   "metadata": {},
   "source": [
    "## Neural Networks\n",
    "\n",
    "As a bonus challenge, let's see if an artificial neural network can do even better. You can use Keras to set up a neural network with 1 binary output neuron and see how it performs. Don't be afraid to run a large number of epochs to train the model if necessary."
   ]
  },
  {
   "cell_type": "code",
   "execution_count": null,
   "metadata": {},
   "outputs": [],
   "source": []
  },
  {
   "cell_type": "code",
   "execution_count": null,
   "metadata": {},
   "outputs": [],
   "source": []
  },
  {
   "cell_type": "code",
   "execution_count": null,
   "metadata": {},
   "outputs": [],
   "source": []
  },
  {
   "cell_type": "code",
   "execution_count": null,
   "metadata": {},
   "outputs": [],
   "source": []
  },
  {
   "cell_type": "markdown",
   "metadata": {
    "collapsed": true
   },
   "source": [
    "## Do we have a winner?\n",
    "\n",
    "Which model, and which choice of hyperparameters, performed the best? Feel free to share your results!"
   ]
  },
  {
   "cell_type": "code",
   "execution_count": null,
   "metadata": {
    "collapsed": true
   },
   "outputs": [],
   "source": []
  }
 ],
 "metadata": {
  "kernelspec": {
   "display_name": "Python 3",
   "language": "python",
   "name": "python3"
  },
  "language_info": {
   "codemirror_mode": {
    "name": "ipython",
    "version": 3
   },
   "file_extension": ".py",
   "mimetype": "text/x-python",
   "name": "python",
   "nbconvert_exporter": "python",
   "pygments_lexer": "ipython3",
   "version": "3.7.3"
  }
 },
 "nbformat": 4,
 "nbformat_minor": 2
}
